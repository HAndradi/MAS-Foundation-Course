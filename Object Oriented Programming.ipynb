{
 "cells": [
  {
   "cell_type": "code",
   "execution_count": 50,
   "metadata": {},
   "outputs": [],
   "source": [
    "import math"
   ]
  },
  {
   "cell_type": "code",
   "execution_count": 17,
   "metadata": {},
   "outputs": [
    {
     "name": "stdout",
     "output_type": "stream",
     "text": [
      "Name of Employee: Charlie Philo\n"
     ]
    }
   ],
   "source": [
    "class Employee:\n",
    "    def __init__(self, first_name, last_name, salary):\n",
    "        self.first_name = first_name\n",
    "        self.last_name = last_name\n",
    "        self.salary = salary\n",
    "    def fullname(self):\n",
    "        print \"Name of Employee: {} {}\".format(self.first_name, self.last_name)\n",
    "        return\n",
    "\n",
    "emp1 = Employee('Charlie', 'Philo', 5000)\n",
    "emp1.fullname()"
   ]
  },
  {
   "cell_type": "code",
   "execution_count": 81,
   "metadata": {},
   "outputs": [
    {
     "name": "stdout",
     "output_type": "stream",
     "text": [
      "Name of Employee: Carlo Wiesse\n",
      "Help on instance of EmployeeChld in module __main__:\n",
      "\n",
      "class EmployeeChld(Employee)\n",
      " |  Methods defined here:\n",
      " |  \n",
      " |  __init__(self, first_name, last_name, staffNum)\n",
      " |  \n",
      " |  ----------------------------------------------------------------------\n",
      " |  Methods inherited from Employee:\n",
      " |  \n",
      " |  fullname(self)\n",
      "\n",
      "None\n"
     ]
    }
   ],
   "source": [
    "class Employee:\n",
    "    def __init__(self, first_name, last_name, salary):\n",
    "        self.first_name = first_name\n",
    "        self.last_name = last_name\n",
    "        self.salary = salary\n",
    "    def fullname(self):\n",
    "        print \"Name of Employee: {} {}\".format(self.first_name, self.last_name)\n",
    "        return\n",
    "\n",
    "class EmployeeChld(Employee):\n",
    "    def __init__(self, first_name, last_name, staffNum):\n",
    "        Employee.__init__(self, first_name, last_name, 5000)\n",
    "#         super().__init__(self, first_name, last_name, 5000)\n",
    "        self.staffNum = staffNum\n",
    "        \n",
    "emp1 = Employee('Charlie', 'Philo', 5000)\n",
    "empChld = EmployeeChld('Carlo','Wiesse','2378')\n",
    "\n",
    "empChld.fullname()\n",
    "print(help(empChld))"
   ]
  },
  {
   "cell_type": "code",
   "execution_count": 70,
   "metadata": {},
   "outputs": [
    {
     "name": "stdout",
     "output_type": "stream",
     "text": [
      "9\n"
     ]
    }
   ],
   "source": [
    "class Shape(object):\n",
    "    def __init__(self):\n",
    "        pass\n",
    "    def calc_area(self):\n",
    "        return self.length**2  \n",
    "    \n",
    "class Square(Shape):\n",
    "    def __init__(self,length):\n",
    "        super(Square,self).__init__()\n",
    "        self.length = length  \n",
    "    \n",
    "class Circle(Shape):\n",
    "    def __init__(self,radius):\n",
    "        super(Circle,self).__init__()\n",
    "        self.radius = radius\n",
    "    def calc_area(self):\n",
    "        return math.pi*self.radius**2\n",
    "    \n",
    "circle_obj = Square(3)\n",
    "print circle_obj.calc_area()"
   ]
  },
  {
   "cell_type": "code",
   "execution_count": 88,
   "metadata": {},
   "outputs": [
    {
     "name": "stdout",
     "output_type": "stream",
     "text": [
      "300 3\n",
      "300 5\n"
     ]
    }
   ],
   "source": [
    "class BankAccount(object):\n",
    "    def __init__(self,name,balance):\n",
    "        self.name = name\n",
    "        self.balance = balance\n",
    "    def deposit(self,amount):\n",
    "        self.balance += amount\n",
    "    def withdraw(self,amount):\n",
    "        self.balance -= amount    \n",
    "    \n",
    "class SavingsAccount(BankAccount):\n",
    "    def __init__(self,name,balance):\n",
    "        super(SavingsAccount,self).__init__(name,balance)\n",
    "        self.lending_rate = 3\n",
    "   \n",
    "class CurrentAccount(BankAccount):\n",
    "    def __init__(self,name,balance):\n",
    "        super(CurrentAccount,self).__init__(name,balance)\n",
    "        self.lending_rate = 5\n",
    "        \n",
    "savings1 = SavingsAccount('Raghuvir',300)\n",
    "print savings1.balance, savings1.lending_rate\n",
    "\n",
    "current1 = CurrentAccount('Raghuvir',300)\n",
    "print savings1.balance, current1.lending_rate\n",
    "    "
   ]
  },
  {
   "cell_type": "code",
   "execution_count": 106,
   "metadata": {},
   "outputs": [
    {
     "ename": "AttributeError",
     "evalue": "Car instance has no attribute '_Car__abc'",
     "output_type": "error",
     "traceback": [
      "\u001b[0;31m---------------------------------------------------------------------------\u001b[0m",
      "\u001b[0;31mAttributeError\u001b[0m                            Traceback (most recent call last)",
      "\u001b[0;32m<ipython-input-106-ccc994fa63ef>\u001b[0m in \u001b[0;36m<module>\u001b[0;34m()\u001b[0m\n\u001b[1;32m     12\u001b[0m \u001b[0mcar1\u001b[0m \u001b[0;34m=\u001b[0m \u001b[0mCar\u001b[0m\u001b[0;34m(\u001b[0m\u001b[0;34m)\u001b[0m\u001b[0;34m\u001b[0m\u001b[0m\n\u001b[1;32m     13\u001b[0m \u001b[0mcar1\u001b[0m\u001b[0;34m.\u001b[0m\u001b[0m__abc\u001b[0m \u001b[0;34m=\u001b[0m \u001b[0;36m10\u001b[0m\u001b[0;34m\u001b[0m\u001b[0m\n\u001b[0;32m---> 14\u001b[0;31m \u001b[0;32mprint\u001b[0m \u001b[0mcar1\u001b[0m\u001b[0;34m.\u001b[0m\u001b[0mdrive\u001b[0m\u001b[0;34m(\u001b[0m\u001b[0;34m)\u001b[0m\u001b[0;34m\u001b[0m\u001b[0m\n\u001b[0m",
      "\u001b[0;32m<ipython-input-106-ccc994fa63ef>\u001b[0m in \u001b[0;36mdrive\u001b[0;34m(self)\u001b[0m\n\u001b[1;32m      5\u001b[0m \u001b[0;34m\u001b[0m\u001b[0m\n\u001b[1;32m      6\u001b[0m     \u001b[0;32mdef\u001b[0m \u001b[0mdrive\u001b[0m\u001b[0;34m(\u001b[0m\u001b[0mself\u001b[0m\u001b[0;34m)\u001b[0m\u001b[0;34m:\u001b[0m\u001b[0;34m\u001b[0m\u001b[0m\n\u001b[0;32m----> 7\u001b[0;31m         \u001b[0;32mprint\u001b[0m \u001b[0;34m\"driving maxspeed: \"\u001b[0m \u001b[0;34m+\u001b[0m \u001b[0mstr\u001b[0m\u001b[0;34m(\u001b[0m\u001b[0mself\u001b[0m\u001b[0;34m.\u001b[0m\u001b[0m__abc\u001b[0m\u001b[0;34m)\u001b[0m\u001b[0;34m\u001b[0m\u001b[0m\n\u001b[0m\u001b[1;32m      8\u001b[0m \u001b[0;34m\u001b[0m\u001b[0m\n\u001b[1;32m      9\u001b[0m     \u001b[0;32mdef\u001b[0m \u001b[0msetMaxSpeed\u001b[0m\u001b[0;34m(\u001b[0m\u001b[0mself\u001b[0m\u001b[0;34m,\u001b[0m\u001b[0mspeed\u001b[0m\u001b[0;34m)\u001b[0m\u001b[0;34m:\u001b[0m\u001b[0;34m\u001b[0m\u001b[0m\n",
      "\u001b[0;31mAttributeError\u001b[0m: Car instance has no attribute '_Car__abc'"
     ]
    }
   ],
   "source": [
    "class Car:\n",
    "    def __init__(self):\n",
    "        self.__maxspeed = 200\n",
    "        self.__name = \"Supercar\"\n",
    "        \n",
    "    def drive(self):\n",
    "        print \"driving maxspeed: \" + str(self.__abc)\n",
    "    \n",
    "    def setMaxSpeed(self,speed):\n",
    "        self.__maxspeed = speed\n",
    "        \n",
    "car1 = Car()\n",
    "car1.__abc = 10\n",
    "print car1.drive()"
   ]
  }
 ],
 "metadata": {
  "kernelspec": {
   "display_name": "Python 2",
   "language": "python",
   "name": "python2"
  },
  "language_info": {
   "codemirror_mode": {
    "name": "ipython",
    "version": 2
   },
   "file_extension": ".py",
   "mimetype": "text/x-python",
   "name": "python",
   "nbconvert_exporter": "python",
   "pygments_lexer": "ipython2",
   "version": "2.7.12"
  }
 },
 "nbformat": 4,
 "nbformat_minor": 2
}

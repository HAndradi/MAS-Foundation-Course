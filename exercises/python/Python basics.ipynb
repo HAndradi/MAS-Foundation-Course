{
 "cells": [
  {
   "cell_type": "markdown",
   "metadata": {},
   "source": [
    "# Python Basics\n",
    "## Foundation Course MAS - HBRS\n",
    "___Author : Iswariya Manivannan___"
   ]
  },
  {
   "cell_type": "markdown",
   "metadata": {},
   "source": [
    "__Tricks and hacks for using jupyter notebook__\n",
    "\n",
    "Jupyter notebooks run on an underlying iPython kernel.\n",
    "\n",
    "* __Jupyter notebook shortcuts__<br>\n",
    "Shortcuts always come in handy. <br>\n",
    "1.Switch to Command mode - Esc <br>\n",
    "2.Switch to Edit mdoe - Enter <br>\n",
    "3.Run a cell - Shift+Enter <br>\n",
    "4.Create new cells above - Press A in Command Mode <br>\n",
    "5.Create new cells below - Press B in Command Mode <br>\n",
    "6.Delete a cell - Press D in Command Mode <br>\n",
    "7.Code completion - Tab <br>\n",
    "8.Extending documentation by displaying docstrings - Shift+tab <br>\n"
   ]
  },
  {
   "cell_type": "markdown",
   "metadata": {},
   "source": [
    "## Let's Get Started!!!"
   ]
  },
  {
   "cell_type": "markdown",
   "metadata": {},
   "source": [
    "__Doctor's Advice: Its good practise to place your imports, if any, in the first cell of the notebook__"
   ]
  },
  {
   "cell_type": "code",
   "execution_count": null,
   "metadata": {},
   "outputs": [],
   "source": [
    "import sys\n",
    "import math\n",
    "print (sys.version)"
   ]
  },
  {
   "cell_type": "markdown",
   "metadata": {},
   "source": [
    "## Datatypes, Variables, Expressions"
   ]
  },
  {
   "cell_type": "markdown",
   "metadata": {},
   "source": [
    "Identifiers - Names of variables, functions, classes, objects, etc. <br>\n",
    "Names can begin with alphabets or _ and can contain number, but no special characters are allowed"
   ]
  },
  {
   "cell_type": "markdown",
   "metadata": {},
   "source": [
    "__Doctor's Advice: Follow the PEP8 Python style guide for Code. It makes your code more \"Pythonic\" and improves code readability__"
   ]
  },
  {
   "cell_type": "code",
   "execution_count": null,
   "metadata": {},
   "outputs": [],
   "source": [
    "var1 = 1\n",
    "var2 = 5.34\n",
    "var3 = False"
   ]
  },
  {
   "cell_type": "markdown",
   "metadata": {},
   "source": [
    "Basic Built-in datatypes in Python - __int, float, bool__"
   ]
  },
  {
   "cell_type": "code",
   "execution_count": null,
   "metadata": {},
   "outputs": [],
   "source": [
    "print(type(var1))\n",
    "print(type(var2))\n",
    "print(type(var3))"
   ]
  },
  {
   "cell_type": "markdown",
   "metadata": {},
   "source": [
    "__Evaluating Expressions using Arithmetic operators__ <br>\n",
    "Create to variables \"first\" and \"second\" with values 5 and 10 <br>\n",
    "* Add the two variables and assign them to another variable \"result\"\n",
    "* Subtract 2 from the result\n",
    "* Perform an integer division by 2\n",
    "* Perform a true division by 2\n",
    "* Get the remainder\n"
   ]
  },
  {
   "cell_type": "code",
   "execution_count": null,
   "metadata": {},
   "outputs": [],
   "source": [
    "num_1, num_2 = 10.0, 5\n",
    "result = num_1 + num_2\n",
    "print \"result {}\".format(result)\n",
    "int_div = num_1/num_2\n",
    "print \"integer division {}\".format(int_div)"
   ]
  },
  {
   "cell_type": "markdown",
   "metadata": {},
   "source": [
    "Use a Python built-in function to obtain the quotient and remainder"
   ]
  },
  {
   "cell_type": "code",
   "execution_count": null,
   "metadata": {},
   "outputs": [],
   "source": [
    "divmod(10,3)"
   ]
  },
  {
   "cell_type": "markdown",
   "metadata": {},
   "source": [
    "__Evaluating Expressions using Relational operators__ <br>\n",
    "Harry, Ron, Hermoine obtained 98.5, 90.4, 99.2 in the exam. <br>\n",
    "* Find out who got more marks\n",
    "* Are Harry and Ron's marks equal?"
   ]
  },
  {
   "cell_type": "code",
   "execution_count": null,
   "metadata": {},
   "outputs": [],
   "source": [
    "Harry, Ron, Hermoine = 98.5, 90.4, 99.2\n",
    "Harry!=Ron"
   ]
  },
  {
   "cell_type": "markdown",
   "metadata": {},
   "source": [
    "__Combining expressions using Logical operators__ <br>\n",
    "The no. of sharks in summer in a particular sea is 100, the no. is 50 in autumn and finally is reduced to 20 in winter. <br>\n",
    "* Check if the no. is greater than 15 in all seasons.\n",
    "* Check if the no. is less than 30 atleast in one season."
   ]
  },
  {
   "cell_type": "code",
   "execution_count": null,
   "metadata": {},
   "outputs": [],
   "source": [
    "summer, autum, winter = 100, 50, 20\n",
    "if summer>15 and autum>15 and winter>15:\n",
    "    print \"greater than 15\"\n",
    "if summer<30 or autum<30 or winter<30:\n",
    "    print \"greater than 30 in atleast one season\"    \n"
   ]
  },
  {
   "cell_type": "markdown",
   "metadata": {},
   "source": [
    "## Importing math Module\n",
    "The math module allows you to perform mathematical operations <br>\n",
    "* Find the exponent and log of 2\n",
    "* Find the cosine of 180\n",
    "* Find the factorial of a number\n",
    "* Convert 1.5 radians to degrees\n",
    "* Find the absolute value of -20"
   ]
  },
  {
   "cell_type": "code",
   "execution_count": null,
   "metadata": {},
   "outputs": [],
   "source": [
    "print math.exp(2)\n",
    "print math.log10(2)\n",
    "print math.cos(math.pi/2)\n",
    "print \"Factorial is {:.1f}\".format(math.factorial(4))\n",
    "print 180*1.5/math.pi\n",
    "print abs(-20)"
   ]
  },
  {
   "cell_type": "markdown",
   "metadata": {},
   "source": [
    "## Conditional Statements"
   ]
  },
  {
   "cell_type": "markdown",
   "metadata": {},
   "source": [
    "__Python has the if conditional statement.__ <br>\n",
    "The if conditional occurs in 3 variants.\n",
    "* if statement <br>\n",
    "The bank balance of 3 customers is 10000 USD, 5000 USD and 100 USD. <br>\n",
    "Check if the balance of the second customer is greater than 1000 USD and print the balance."
   ]
  },
  {
   "cell_type": "code",
   "execution_count": null,
   "metadata": {},
   "outputs": [],
   "source": [
    "c1, c2, c3 = 10000, 5000, 100\n",
    "if c2>1000:\n",
    "    print c2"
   ]
  },
  {
   "cell_type": "markdown",
   "metadata": {},
   "source": [
    "* if...else statement <br>\n",
    "Check if the balance of the third customer is greater than 1000 USD, otherwise add a fine of 100 USD \n",
    "and subtract it from the main balance."
   ]
  },
  {
   "cell_type": "code",
   "execution_count": null,
   "metadata": {},
   "outputs": [],
   "source": [
    "if c3>1000:\n",
    "    print \"greater than 1000\"\n",
    "else:\n",
    "    print \"fined\"\n",
    "    print \"old balance: {0} new balance:{1}\".format(c3,c3-100)"
   ]
  },
  {
   "cell_type": "markdown",
   "metadata": {},
   "source": [
    "* if...elif statement\n",
    "Also check if the balance is greater than 8000 USD, if so give the customer a bonus of 100 USD."
   ]
  },
  {
   "cell_type": "code",
   "execution_count": null,
   "metadata": {},
   "outputs": [],
   "source": [
    "customer = c3\n",
    "if customer>8000:\n",
    "    print \"Bonus! New balance is {}\".format(customer+100)\n",
    "elif customer>1000:\n",
    "    print \"Balance is {}\".format(customer)\n",
    "else:\n",
    "    print \"Fined! New balance is {}\".format(customer-100)"
   ]
  },
  {
   "cell_type": "markdown",
   "metadata": {},
   "source": [
    "## Looping in Python"
   ]
  },
  {
   "cell_type": "markdown",
   "metadata": {},
   "source": [
    "Python uses 2 types of loops <br>\n",
    "* while loop (less commonly used) <br>\n",
    "Print the first 10 natural numbers and their sum"
   ]
  },
  {
   "cell_type": "code",
   "execution_count": null,
   "metadata": {},
   "outputs": [],
   "source": [
    "sumn = 0\n",
    "num = 1\n",
    "while num<=10:\n",
    "    print num\n",
    "    sumn += num\n",
    "    num += 1\n",
    "print \"Sum of numbers is {}\".format(sumn)\n"
   ]
  },
  {
   "cell_type": "markdown",
   "metadata": {},
   "source": [
    "* For loop\n",
    "Print the first 10 natural numbers and their sum"
   ]
  },
  {
   "cell_type": "code",
   "execution_count": null,
   "metadata": {},
   "outputs": [],
   "source": [
    "sumn = 0\n",
    "for num in range(1,11):\n",
    "    print num\n",
    "    sumn+=num\n",
    "print \"Sum of numbers is {}\".format(sumn)\n",
    "    "
   ]
  },
  {
   "cell_type": "markdown",
   "metadata": {},
   "source": [
    "Control statements like **break** and **continue** are also used in python. <br>\n",
    "* Exit the loop when the number 5 is reached."
   ]
  },
  {
   "cell_type": "code",
   "execution_count": null,
   "metadata": {},
   "outputs": [],
   "source": [
    "sumn = 0\n",
    "for num in range(1,11):\n",
    "    print num\n",
    "    sumn+=num\n",
    "    if num==5:\n",
    "        break\n",
    "print \"Sum of numbers is {}\".format(sumn)"
   ]
  },
  {
   "cell_type": "markdown",
   "metadata": {},
   "source": [
    "## Advanced Data Structures in Python"
   ]
  },
  {
   "cell_type": "markdown",
   "metadata": {},
   "source": [
    "* Strings \n",
    "* Lists\n",
    "* Tuples\n",
    "* Dictionary"
   ]
  },
  {
   "cell_type": "markdown",
   "metadata": {},
   "source": [
    "### Strings  <br>\n",
    "Strings are a sequence of characters enclosed in single quotes or double quotes. They are __immutable__. <br>\n",
    "Create a string \" foundation_course \"\n",
    "* Count the number times of char \"o\" occurs in it\n",
    "* Remove the white spaces before and after\n",
    "* Find the characters \"a\", \"b\", \"c\", \"d\" and replace with \"X\"\n",
    "* Split the string based on \"_\"\n",
    "* Convert the string to upper case\n"
   ]
  },
  {
   "cell_type": "code",
   "execution_count": null,
   "metadata": {},
   "outputs": [],
   "source": [
    "my_str = \"foundation_course \"\n",
    "print my_str.replace(\"a\",\"X\")\n",
    "list = my_str.count\n",
    "print my_str.islower()"
   ]
  },
  {
   "cell_type": "markdown",
   "metadata": {},
   "source": [
    "Extract the digits of the number 4016 and add check if they are even. <br>\n",
    "Hint: Convert the number to a string"
   ]
  },
  {
   "cell_type": "code",
   "execution_count": null,
   "metadata": {},
   "outputs": [],
   "source": [
    "for x in \"4016\":\n",
    "    if math.fmod(int(x),2)==1:\n",
    "        print \"odd\"\n",
    "    else:\n",
    "        print \"even\""
   ]
  },
  {
   "cell_type": "markdown",
   "metadata": {},
   "source": [
    "## Lists <br>\n",
    "The most versatile data-type consisting of comma separated values enclosed in square brackets [] <br>\n",
    "A marks of a class of 4 students are 90, 40, 80, 60 <br>\n",
    "* Create a list named fruits with the number of each fruits as its elements. \n",
    "* Reverse the list\n",
    "* Add the marks 95, 75 to the list\n",
    "* Inset the marks 100 in the 3rd position\n",
    "* Remove the marks 40\n",
    "* Remove the last element of the list\n",
    "* Sort the elements of the list"
   ]
  },
  {
   "cell_type": "code",
   "execution_count": null,
   "metadata": {},
   "outputs": [],
   "source": [
    "marks = [90,40,80,60]\n",
    "print type(marks)\n",
    "marks.reverse()\n",
    "print marks\n",
    "marks.append(95)\n",
    "marks.insert(3,1)\n",
    "print marks\n"
   ]
  },
  {
   "cell_type": "markdown",
   "metadata": {},
   "source": [
    "* Add the names lucy and jenny to list"
   ]
  },
  {
   "cell_type": "code",
   "execution_count": null,
   "metadata": {},
   "outputs": [],
   "source": []
  },
  {
   "cell_type": "markdown",
   "metadata": {},
   "source": [
    "__Doctor's Advice Again:__ <br>\n",
    "* Create a matrix $A = \\begin{bmatrix}2 & 3 \\\\5 & 6 \\\\1 & 1\\end{bmatrix}$ using lists\n",
    "* Append another list of vowels to this list"
   ]
  },
  {
   "cell_type": "code",
   "execution_count": null,
   "metadata": {},
   "outputs": [],
   "source": [
    "A = [[2,3],[5,6],[1,1]]\n",
    "print A\n",
    "vowels = ['a','b','c']\n",
    "A.extend(vowels)\n",
    "print A"
   ]
  },
  {
   "cell_type": "markdown",
   "metadata": {},
   "source": [
    "Indexing and Slicing\n",
    "Python provides a very convenient way of indexing elements of strings, lists, tuples and dictionaries. <br>\n",
    "* Create a string \"Hello_world\"\n",
    "* Print the first, third and fifth char of the string\n",
    "* Print the first 6 characters of the string\n",
    "* Print the last 5 characters of the string"
   ]
  },
  {
   "cell_type": "code",
   "execution_count": null,
   "metadata": {},
   "outputs": [],
   "source": [
    "string = \"Hello_world\"\n",
    "print str[:6]"
   ]
  },
  {
   "cell_type": "markdown",
   "metadata": {},
   "source": [
    "* Create a list from the string given above\n",
    "* Print the elements from the first position to the second last element"
   ]
  },
  {
   "cell_type": "code",
   "execution_count": null,
   "metadata": {},
   "outputs": [],
   "source": [
    "stringx = \"Hello_world\"\n",
    "listx = list(stringx)\n",
    "listx[5] = \"pp\"\n",
    "print listx\n"
   ]
  },
  {
   "cell_type": "markdown",
   "metadata": {},
   "source": [
    "## Tuples\n",
    "Tuples are __immutable__ lists enclosed in paranthesis () <br>\n",
    "* Create a tuple of the above mentioned 4 marks\n",
    "* Try modifying the first element of the tuple\n",
    "* Create another tuple of marks 55, 65\n",
    "* Add the two tuples and store it in a new tuple\n",
    "* Get the third element from the last in the new tuple\n"
   ]
  },
  {
   "cell_type": "code",
   "execution_count": null,
   "metadata": {},
   "outputs": [],
   "source": [
    "tuplex = (1,2,3,4)\n",
    "tupley = (5,6)\n",
    "print tuplex, tupley\n",
    "tuplez = tuplex+tupley\n",
    "tuplez[3] = 4\n",
    "print tuplez\n"
   ]
  },
  {
   "cell_type": "markdown",
   "metadata": {},
   "source": [
    "## Built-in Functions common to strings, lists, tuples\n",
    "* Create a string \"foundation_course_2018\"\n",
    "* Create a list of nos - 90, 70, 30, 20, 50\n",
    "* Create a tuple of prime nos - 2, 3, 5, 7, 11, 13, 17\n",
    "* Find the len of each\n",
    "* Find the max and min of each\n",
    "* Find the sum of nos in the tuple and list"
   ]
  },
  {
   "cell_type": "code",
   "execution_count": null,
   "metadata": {},
   "outputs": [],
   "source": [
    "str = \"foundation_course_2018\"\n",
    "lst = [10,70,30,20,50]\n",
    "tup = (2,3,5,7,11,13,17)\n",
    "print lst\n",
    "print sum(lst)"
   ]
  },
  {
   "cell_type": "markdown",
   "metadata": {},
   "source": [
    "## Dictionary\n",
    "Dictionaries are key, value pairs separated by a colon and enclosed with curly brackets {} <br>\n",
    "* Create a dictionary of the following weather data<br>\n",
    "Berlin - 25 <br>\n",
    "Helsinki - 15 <br>\n",
    "Madrid - 29 <br>\n",
    "Dubai - 34 <br>\n",
    "* Print the keys and values of the dictionary\n",
    "* Check if the dictionary has the key Paris, if not add the key with value 27\n",
    "* Get the value of key Madrid\n",
    "* Set the default value of key Rome to 30 and Berlin to 20\n",
    "\n",
    "__Note: Dictionaries are indexed by keys and hence, slicing cannot be applied to it __\n"
   ]
  },
  {
   "cell_type": "code",
   "execution_count": null,
   "metadata": {},
   "outputs": [],
   "source": [
    "weather = {\"berlin\":25,\"helsinki\":15,\"madrid\":29,\"dubai\":34}\n",
    "print weather.keys()\n",
    "print weather.values()\n",
    "print weather.has_key(\"paris\")\n",
    "print weather.has_key(\"madrid\")\n",
    "weather.setdefault(\"paris\",20)\n",
    "print weather\n",
    "weather.setdefault(\"madrid\",20)\n",
    "print weather['madrid']\n",
    "weather[\"Berlin\"] = [10,15,20]\n",
    "tupn = (\"Germany\",\"Spain\",\"Finland\")\n",
    "lstn = [3,2,5,6]\n",
    "weather.app\n",
    "print weather\n"
   ]
  },
  {
   "cell_type": "markdown",
   "metadata": {},
   "source": [
    "__Doctor's Advice Again:__ <br>\n",
    "* Modify the above dictionary by replacing the value of Berlin with a list of nos 10, 15, 20\n",
    "* Create a tuple of countries Germany, Spain, Finland\n",
    "* Create a list of nos 3, 2, 5, 6\n",
    "* Append the dictionary and tuple to the list"
   ]
  },
  {
   "cell_type": "code",
   "execution_count": null,
   "metadata": {},
   "outputs": [],
   "source": []
  },
  {
   "cell_type": "markdown",
   "metadata": {},
   "source": [
    "## Built-in functions in Python\n",
    "Python has several built-in functions which can be used on the fly without importing any modules. <br>\n",
    "__1. Getting help from Python__"
   ]
  },
  {
   "cell_type": "code",
   "execution_count": null,
   "metadata": {},
   "outputs": [],
   "source": []
  },
  {
   "cell_type": "markdown",
   "metadata": {},
   "source": [
    "__2. range()__ <br>\n",
    "range produces an iter object in Python 3 and is similar to xrange in Python 2 <br>\n",
    "* Generate the series - 1, 4, 9, 16, 25, 36, 49, 64, 81, 100 <br>\n",
    "* Generate the multiples of 4"
   ]
  },
  {
   "cell_type": "code",
   "execution_count": null,
   "metadata": {},
   "outputs": [],
   "source": [
    "abc =  xrange(1,11)\n",
    "print abc[1]"
   ]
  },
  {
   "cell_type": "markdown",
   "metadata": {},
   "source": [
    "__3. sorted()__ <br>\n",
    "Returns a sorted copy of the original list. __Does not mutate__ the original list. <br>\n",
    "* Create a list of nos - 5, 3, 9, 6, 1, 0\n",
    "* Sort the list in reverse order\n",
    "\n"
   ]
  },
  {
   "cell_type": "code",
   "execution_count": null,
   "metadata": {},
   "outputs": [],
   "source": []
  },
  {
   "cell_type": "markdown",
   "metadata": {},
   "source": [
    "__4. reversed()__ <br>\n",
    "Returns a reversed copy of the original list. __Does not mutate__ the original list. Returns an iter object in Python 3\n",
    "* Create a list of vowels and reverse them"
   ]
  },
  {
   "cell_type": "markdown",
   "metadata": {},
   "source": []
  },
  {
   "cell_type": "markdown",
   "metadata": {},
   "source": [
    "__5. set()__ <br>\n",
    "Create a set of items in a list or tuple. Removes duplicates. <br>"
   ]
  },
  {
   "cell_type": "code",
   "execution_count": null,
   "metadata": {},
   "outputs": [],
   "source": []
  },
  {
   "cell_type": "markdown",
   "metadata": {},
   "source": [
    "__6. Type casting in python__"
   ]
  },
  {
   "cell_type": "code",
   "execution_count": null,
   "metadata": {},
   "outputs": [],
   "source": []
  },
  {
   "cell_type": "markdown",
   "metadata": {},
   "source": [
    "__Pay Attention !! Iterating through lists__ <br>\n",
    "Python for loops are very different from other programming languages \n",
    "<br>\n",
    "__The wrong way of iterating through elements of a list!!__<br>"
   ]
  },
  {
   "cell_type": "code",
   "execution_count": null,
   "metadata": {},
   "outputs": [],
   "source": []
  },
  {
   "cell_type": "markdown",
   "metadata": {},
   "source": [
    "__The Right way__"
   ]
  },
  {
   "cell_type": "code",
   "execution_count": null,
   "metadata": {},
   "outputs": [],
   "source": []
  },
  {
   "cell_type": "markdown",
   "metadata": {},
   "source": [
    "__Doctor's Advise Again!!  Exercise__\n",
    "* Create a list of first 20 natural nos.\n",
    "* Filter out the even nos and print them."
   ]
  },
  {
   "cell_type": "code",
   "execution_count": null,
   "metadata": {},
   "outputs": [],
   "source": [
    "import math\n",
    "lst = [1]\n",
    "cnt = 1\n",
    "num = 1\n",
    "while cnt < 20:\n",
    "    print num\n",
    "    num += 1\n",
    "    natnum = 1\n",
    "    for div in range(1,num):\n",
    "        if num%div==0:\n",
    "            natnum = 0\n",
    "    if natnum==1:\n",
    "        lst.append(num)\n",
    "print lst\n",
    "\n",
    "        \n",
    "    "
   ]
  },
  {
   "cell_type": "markdown",
   "metadata": {},
   "source": [
    "* Create a list of birds - pigeon, crow, eagle, swan, duck, chicken, woodpecker\n",
    "* Filter out the birds which start with a vowel."
   ]
  },
  {
   "cell_type": "code",
   "execution_count": 4,
   "metadata": {},
   "outputs": [
    {
     "ename": "TypeError",
     "evalue": "'enumerate' object has no attribute '__getitem__'",
     "output_type": "error",
     "traceback": [
      "\u001b[0;31m---------------------------------------------------------------------------\u001b[0m",
      "\u001b[0;31mTypeError\u001b[0m                                 Traceback (most recent call last)",
      "\u001b[0;32m<ipython-input-4-cfa6f49ada42>\u001b[0m in \u001b[0;36m<module>\u001b[0;34m()\u001b[0m\n\u001b[1;32m      1\u001b[0m \u001b[0mabc\u001b[0m \u001b[0;34m=\u001b[0m \u001b[0menumerate\u001b[0m\u001b[0;34m(\u001b[0m\u001b[0mxrange\u001b[0m\u001b[0;34m(\u001b[0m\u001b[0;36m0\u001b[0m\u001b[0;34m,\u001b[0m\u001b[0;36m31\u001b[0m\u001b[0;34m,\u001b[0m\u001b[0;36m3\u001b[0m\u001b[0;34m)\u001b[0m\u001b[0;34m)\u001b[0m\u001b[0;34m\u001b[0m\u001b[0m\n\u001b[0;32m----> 2\u001b[0;31m \u001b[0;32mprint\u001b[0m \u001b[0mabc\u001b[0m\u001b[0;34m[\u001b[0m\u001b[0;36m0\u001b[0m\u001b[0;34m]\u001b[0m\u001b[0;34m\u001b[0m\u001b[0m\n\u001b[0m",
      "\u001b[0;31mTypeError\u001b[0m: 'enumerate' object has no attribute '__getitem__'"
     ]
    }
   ],
   "source": [
    "abc = enumerate(xrange(0,31,3))\n",
    "print abc[0]"
   ]
  },
  {
   "cell_type": "markdown",
   "metadata": {},
   "source": [
    "__7. enumerate()__ <br>\n",
    "Returns the count and value of the iterable. <br>\n",
    "* Create a list of multiples of 3\n",
    "* Iterate through the list and add ten to the nos in the even position."
   ]
  },
  {
   "cell_type": "code",
   "execution_count": null,
   "metadata": {},
   "outputs": [],
   "source": [
    "enumerate"
   ]
  },
  {
   "cell_type": "markdown",
   "metadata": {},
   "source": [
    "__8. zip()__<br>\n",
    "Useful when you need to iterate through multiple lists at the same time.\n",
    "* Create two lists [1, 2, 3, 4, 5], [1, 1, 1, 1, 1]\n",
    "* Add the elements of the two lists and store them in a new list"
   ]
  },
  {
   "cell_type": "code",
   "execution_count": 7,
   "metadata": {},
   "outputs": [
    {
     "name": "stdout",
     "output_type": "stream",
     "text": [
      "[(0, 3), (1, 4)]\n"
     ]
    }
   ],
   "source": [
    "lst1 = [0,1,2]\n",
    "lst2 = [3,4]\n",
    "zipx = zip(lst1,lst2)\n",
    "print zipx"
   ]
  },
  {
   "cell_type": "markdown",
   "metadata": {},
   "source": [
    "* Create a third list [2, 2, 2]\n",
    "* Multiply the elements of the first two lists and then add the elements of the third list to it.\n",
    "* What is the length of the resultant list?\n",
    "* What do you infer from the behaviour of zip?"
   ]
  },
  {
   "cell_type": "markdown",
   "metadata": {},
   "source": [
    "__List Comprehension__ <br>\n",
    "One liners for getting a list output from for loops <br>\n",
    "List comprehension is faster than normal for loops \n",
    "* Lets work on the same problem of extracting the digits from a number."
   ]
  },
  {
   "cell_type": "code",
   "execution_count": null,
   "metadata": {},
   "outputs": [],
   "source": []
  },
  {
   "cell_type": "markdown",
   "metadata": {},
   "source": [
    "* Extract only even digits from a number"
   ]
  },
  {
   "cell_type": "code",
   "execution_count": null,
   "metadata": {},
   "outputs": [],
   "source": []
  },
  {
   "cell_type": "markdown",
   "metadata": {},
   "source": [
    "* Extract the even digits from a number and replace the other digits with 100"
   ]
  },
  {
   "cell_type": "code",
   "execution_count": null,
   "metadata": {},
   "outputs": [],
   "source": []
  },
  {
   "cell_type": "markdown",
   "metadata": {},
   "source": [
    "* Create a matrix using lists $A = \\begin{bmatrix}1 & 2 & 3 \\\\4 & 5 & 6 \\end{bmatrix}$\n",
    "* Find its transpose using list comprehension"
   ]
  },
  {
   "cell_type": "code",
   "execution_count": null,
   "metadata": {},
   "outputs": [],
   "source": [
    "\n"
   ]
  },
  {
   "cell_type": "markdown",
   "metadata": {},
   "source": [
    "## User-defined functions in Python\n",
    "Functions in python are different from other languages - they can have any number of return values\n",
    "* Write a basic function manipulate_numbers() to add, subtract, multiply and divide to numbers passed to it and return the corresponding values"
   ]
  },
  {
   "cell_type": "code",
   "execution_count": null,
   "metadata": {},
   "outputs": [],
   "source": []
  },
  {
   "cell_type": "markdown",
   "metadata": {},
   "source": [
    "Arguments can take on default values if not passed in function call.\n"
   ]
  },
  {
   "cell_type": "code",
   "execution_count": null,
   "metadata": {},
   "outputs": [],
   "source": []
  },
  {
   "cell_type": "markdown",
   "metadata": {},
   "source": [
    "* Write a function that takes two lists as it arguments\n",
    "* The function should reverse the first the list\n",
    "* Then return the sum of elements of lists multiplied together"
   ]
  },
  {
   "cell_type": "code",
   "execution_count": null,
   "metadata": {},
   "outputs": [],
   "source": []
  },
  {
   "cell_type": "markdown",
   "metadata": {},
   "source": [
    "__Doctors Advice Again__ <br>\n",
    "* Write a function to extract the second element of a tuple\n",
    "* Create a list of tuples - (4,3), (6,2), (7,5), (0, 1)\n",
    "* Sort the list based on the second element of the tuple\n",
    "Hint: Pass the function to key argument in sorted()"
   ]
  },
  {
   "cell_type": "code",
   "execution_count": null,
   "metadata": {},
   "outputs": [],
   "source": []
  },
  {
   "cell_type": "markdown",
   "metadata": {},
   "source": [
    "## Other Built-in functions Python\n",
    "* __Lambdas__ <br>\n",
    "__Syntax: var = lambda arg: expression(arg)__ <br>\n",
    "Create a function that returns the value of the no. passed to it multiplied by 100"
   ]
  },
  {
   "cell_type": "code",
   "execution_count": null,
   "metadata": {},
   "outputs": [],
   "source": []
  },
  {
   "cell_type": "markdown",
   "metadata": {},
   "source": [
    "* __Map__ <br>\n",
    "It is used for mapping a list to a function. <br>\n",
    "__Syntax: map(func_to_map, list_to_be_passed)__ <br>\n",
    "Note: Map returns an iter object in python. Type casting to list datatype may be used.\n"
   ]
  },
  {
   "cell_type": "markdown",
   "metadata": {},
   "source": [
    "Create a list of number from 1 to 10 and multiply each element by 100"
   ]
  },
  {
   "cell_type": "code",
   "execution_count": null,
   "metadata": {},
   "outputs": [],
   "source": []
  },
  {
   "cell_type": "markdown",
   "metadata": {},
   "source": [
    "* Create a list of square root of numbers from 1 to 20 using map and lambda"
   ]
  },
  {
   "cell_type": "code",
   "execution_count": null,
   "metadata": {},
   "outputs": [],
   "source": []
  },
  {
   "cell_type": "markdown",
   "metadata": {},
   "source": [
    "__Note: Also lookup reduce() and filter()__"
   ]
  },
  {
   "cell_type": "markdown",
   "metadata": {},
   "source": [
    "## Classes & Objects in Python"
   ]
  },
  {
   "cell_type": "markdown",
   "metadata": {},
   "source": [
    "* Create a class Employee with variables name, age and nationality.\n",
    "* Create objects to the class - Richard, 35, American; Leonardo, 45, Spanish; Chen, 25, Chinese"
   ]
  },
  {
   "cell_type": "code",
   "execution_count": 5,
   "metadata": {},
   "outputs": [
    {
     "name": "stdout",
     "output_type": "stream",
     "text": [
      "Age between 20 and 30\n"
     ]
    }
   ],
   "source": [
    "class Employee:\n",
    "    def __init__(self, name, age):\n",
    "        self.name = name\n",
    "        self.age = age\n",
    "        return\n",
    "    def salary(self):\n",
    "        if self.age<30 and self.age>20:\n",
    "            print (\"Age between 20 and 30\")\n",
    "        else:\n",
    "            print (\"Not in desired age group\")\n",
    "        return\n",
    "        \n",
    "obj_1 = Employee(\"Richard\",25)\n",
    "obj_1.salary()\n",
    "        \n",
    "        "
   ]
  },
  {
   "cell_type": "markdown",
   "metadata": {},
   "source": [
    "* Create a class method which calculates the salary based on age. <br>\n",
    "If age is between 20 and 30, then salary is 5000 USD <br>\n",
    "If age is between 31 and 40, then salary is 10000 USD <br>\n",
    "If age is between 41 and 50, then salary is 15000 USD <br>"
   ]
  },
  {
   "cell_type": "code",
   "execution_count": null,
   "metadata": {},
   "outputs": [],
   "source": []
  },
  {
   "cell_type": "markdown",
   "metadata": {},
   "source": [
    "### Other sources for learning Python: <br>\n",
    "1.Tutorials Point - https://www.tutorialspoint.com/python/ <br>\n",
    "2.Learn Python the hard way <br>\n",
    "3.Python for Computation science https://www.southampton.ac.uk/~fangohr/training/python/pdfs/Python-for-Computational-Science-and-Engineering.pdf <br>\n",
    "3.Data Structures and Algorithms in Python - \n",
    "Book by Michael H. Goldwasser, Michael T. Goodrich, and Roberto Tamassia (Advanced) <br>\n",
    "4.Effective Python: 59 Specific Ways to Write Better Python - \n",
    "Book by Brett Slatkin (Advanced) <br>\n"
   ]
  }
 ],
 "metadata": {
  "kernelspec": {
   "display_name": "Python 2",
   "language": "python",
   "name": "python2"
  },
  "language_info": {
   "codemirror_mode": {
    "name": "ipython",
    "version": 2
   },
   "file_extension": ".py",
   "mimetype": "text/x-python",
   "name": "python",
   "nbconvert_exporter": "python",
   "pygments_lexer": "ipython2",
   "version": "2.7.12"
  }
 },
 "nbformat": 4,
 "nbformat_minor": 2
}

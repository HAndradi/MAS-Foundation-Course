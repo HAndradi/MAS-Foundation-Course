{
 "cells": [
  {
   "cell_type": "markdown",
   "metadata": {},
   "source": [
    "## Python Exercises <br>\n",
    "The goal of this assignment is to get you familiarized with basic python functionalities which were discussed in the class. \n",
    "You will have to apply the concepts taught in class today and feel free to go through the class notebook or the other sources mentioned in the notebook to gain more clarity of the concepts. <br>\n",
    "You will have to submit a pdf copy of the notebook in slack and the submission deadline will be announced to you in class. To submit, either print the page in pdf format or you can also use the 'download as' option in the 'file' menu(you may face some errors). <br>\n",
    "\n",
    "__Practise makes a man perfect!!!__ So lets get started with the exercise problems. <br>\n"
   ]
  },
  {
   "cell_type": "markdown",
   "metadata": {},
   "source": [
    "Write a Python program to get the Python version you are using."
   ]
  },
  {
   "cell_type": "code",
   "execution_count": 1,
   "metadata": {},
   "outputs": [
    {
     "data": {
      "text/plain": [
       "'2.7.12 (default, Dec  4 2017, 14:50:18) \\n[GCC 5.4.0 20160609]'"
      ]
     },
     "execution_count": 1,
     "metadata": {},
     "output_type": "execute_result"
    }
   ],
   "source": [
    "import sys\n",
    "import math\n",
    "sys.version"
   ]
  },
  {
   "cell_type": "markdown",
   "metadata": {},
   "source": [
    "Write a Python program which accepts the radius of a circle from the user and compute the area. (Use math library)"
   ]
  },
  {
   "cell_type": "code",
   "execution_count": 2,
   "metadata": {},
   "outputs": [
    {
     "name": "stdout",
     "output_type": "stream",
     "text": [
      "enter a value for the radius in cm : 2\n",
      "the area of the circle is: 12.57\n"
     ]
    }
   ],
   "source": [
    "radius = input('enter a value for the radius in cm : ')\n",
    "area = math.pi*math.pow(radius,2)\n",
    "print \"the area of the circle is: {:.2f}\".format(area)"
   ]
  },
  {
   "cell_type": "markdown",
   "metadata": {},
   "source": [
    "Write a Python program to concatenate all elements in a list into a string and return it."
   ]
  },
  {
   "cell_type": "code",
   "execution_count": 3,
   "metadata": {},
   "outputs": [
    {
     "name": "stdout",
     "output_type": "stream",
     "text": [
      "list : ['w', 'o', 'r', 'd']\n",
      "word\n"
     ]
    }
   ],
   "source": [
    "lst1 = [\"w\",\"o\",\"r\",\"d\"]\n",
    "print \"list : {}\".format(lst1)\n",
    "str1 = \"\".join(lst1)\n",
    "print str1"
   ]
  },
  {
   "cell_type": "markdown",
   "metadata": {},
   "source": [
    "Write a Python program to calculate the area of a trapezoid. <br>\n",
    "Test Data <br>\n",
    "Height : 5<br>\n",
    "Base, first value : 5<br>\n",
    "Base, second value : 6<br>\n",
    "Expected Output: Area is : 27.5<br>"
   ]
  },
  {
   "cell_type": "code",
   "execution_count": 4,
   "metadata": {},
   "outputs": [
    {
     "name": "stdout",
     "output_type": "stream",
     "text": [
      "area of trapezoid : 27.5\n"
     ]
    }
   ],
   "source": [
    "height, base1, base2 = 5, 5, 6\n",
    "area = 0.5*height*(base1+base2)\n",
    "print 'area of trapezoid : {:.1f}'.format(area)"
   ]
  },
  {
   "cell_type": "markdown",
   "metadata": {},
   "source": [
    "Write a Python program to remove and print every third number from a list of 50 natural numbers until the list becomes empty."
   ]
  },
  {
   "cell_type": "code",
   "execution_count": 5,
   "metadata": {},
   "outputs": [
    {
     "name": "stdout",
     "output_type": "stream",
     "text": [
      "3\n",
      "6\n",
      "9\n",
      "12\n",
      "15\n",
      "18\n",
      "21\n",
      "24\n",
      "27\n",
      "30\n",
      "33\n",
      "36\n",
      "39\n",
      "42\n",
      "45\n",
      "48\n",
      "1\n",
      "5\n",
      "10\n",
      "14\n",
      "19\n",
      "23\n",
      "28\n",
      "32\n",
      "37\n",
      "41\n",
      "46\n",
      "50\n",
      "7\n",
      "13\n",
      "20\n",
      "26\n",
      "34\n",
      "40\n",
      "47\n",
      "4\n",
      "16\n",
      "25\n",
      "35\n",
      "44\n",
      "8\n",
      "22\n",
      "38\n",
      "2\n",
      "29\n",
      "49\n",
      "31\n",
      "17\n",
      "43\n",
      "11\n"
     ]
    }
   ],
   "source": [
    "numlst = range(1,51)\n",
    "iter = 2\n",
    "while len(numlst)>0:\n",
    "    if iter<len(numlst):\n",
    "        print numlst.pop(iter)\n",
    "        iter += 2           \n",
    "    else:\n",
    "        iter -= len(numlst)"
   ]
  },
  {
   "cell_type": "markdown",
   "metadata": {},
   "source": [
    "Write a Python program to print the following text, convert the string to a list and print all the words and their frequencies <br>\n",
    "__\"Probability is the measure of the likelihood that an event will occur. Probability is quantified as a number between 0 and 1, where, loosely speaking, 0 indicates impossibility and 1 indicates certainty. The higher the probability of an event, the more likely it is that the event will occur.\"__"
   ]
  },
  {
   "cell_type": "code",
   "execution_count": 6,
   "metadata": {},
   "outputs": [
    {
     "name": "stdout",
     "output_type": "stream",
     "text": [
      "and:2\n",
      "probability:3\n",
      "is:3\n",
      "number:1\n",
      "an:2\n",
      "indicates:2\n",
      "as:1\n",
      "measure:1\n",
      "occur:2\n",
      "event:3\n",
      "1:2\n",
      "0:2\n",
      "between:1\n",
      "speaking:1\n",
      "higher:1\n",
      "that:2\n",
      "quantified:1\n",
      "it:1\n",
      "likelihood:1\n",
      "a:1\n",
      "of:2\n",
      "certainty:1\n",
      "loosely:1\n",
      "likely:1\n",
      "will:2\n",
      "impossibility:1\n",
      "the:6\n",
      "more:1\n",
      "where:1\n"
     ]
    }
   ],
   "source": [
    "str1 = \"Probability is the measure of the likelihood that an event will occur. Probability is quantified as a number between 0 and 1, where, loosely speaking, 0 indicates impossibility and 1 indicates certainty. The higher the probability of an event, the more likely it is that the event will occur.\"\n",
    "lst1 = str1.lower().replace(\".\",\"\").replace(\",\",\"\").split(\" \")\n",
    "for unq_word in set(lst1):\n",
    "    print \"{}:{}\".format(unq_word,lst1.count(unq_word))"
   ]
  },
  {
   "cell_type": "markdown",
   "metadata": {},
   "source": [
    "Write a Python program to reverse the digits of a given number and add it to the original, If the sum is not a palindrome repeat this procedure. <br>\n",
    "Note: A palindrome is a word, number, or other sequence of characters which reads the same backward as forward, such as madam or racecar."
   ]
  },
  {
   "cell_type": "code",
   "execution_count": 7,
   "metadata": {},
   "outputs": [
    {
     "name": "stdout",
     "output_type": "stream",
     "text": [
      "89\n",
      "187\n",
      "968\n",
      "1837\n",
      "9218\n",
      "17347\n",
      "91718\n",
      "173437\n",
      "907808\n",
      "1716517\n",
      "8872688\n",
      "17735476\n",
      "85189247\n",
      "159487405\n",
      "664272356\n",
      "1317544822\n",
      "3602001953\n",
      "7193004016\n",
      "13297007933\n",
      "47267087164\n",
      "93445163438\n",
      "176881317877\n",
      "955594506548\n",
      "1801200002107\n",
      "8813200023188\n"
     ]
    }
   ],
   "source": [
    "num1 = 89\n",
    "while True:\n",
    "    print(num1)\n",
    "    num1 += int(str(num1)[::-1])\n",
    "    if str(num1)==str(num1)[::-1]:\n",
    "        print num1\n",
    "        break"
   ]
  },
  {
   "cell_type": "markdown",
   "metadata": {},
   "source": [
    "Write a Python program to generate a list of squares of numbers between 1 and 20 (both nos included) and print ONLY the first and last 5 elements."
   ]
  },
  {
   "cell_type": "code",
   "execution_count": 8,
   "metadata": {},
   "outputs": [
    {
     "name": "stdout",
     "output_type": "stream",
     "text": [
      "First five square numbers: [1, 4, 9, 16, 25] , Last five square numbers: [256, 289, 324, 361, 400]\n"
     ]
    }
   ],
   "source": [
    "numlst = [int(math.pow(x,2)) for x in range(1,21)]\n",
    "print \"First five square numbers: {} , Last five square numbers: {}\".format(numlst[:5],numlst[-5:])"
   ]
  },
  {
   "cell_type": "markdown",
   "metadata": {},
   "source": [
    "Write a Python program to split the following sentence based on white space and then extract the first letter of each split string. <br>\n",
    "__\"Jack of all trades but master of none\"__"
   ]
  },
  {
   "cell_type": "code",
   "execution_count": 9,
   "metadata": {},
   "outputs": [
    {
     "name": "stdout",
     "output_type": "stream",
     "text": [
      "J\n",
      "o\n",
      "a\n",
      "t\n",
      "b\n",
      "m\n",
      "o\n",
      "n\n"
     ]
    }
   ],
   "source": [
    "str1 = \"Jack of all trades but master of none\"\n",
    "lst1 = str1.split(\" \")\n",
    "for x in lst1:\n",
    "    print x[0]"
   ]
  },
  {
   "cell_type": "markdown",
   "metadata": {},
   "source": [
    "Write a Python program to remove the duplicate elements in the list but preserve the order. <br>\n",
    "Eg: [2,3,5,4,2,3,8,4] should give an output [2,3,5,4,8]"
   ]
  },
  {
   "cell_type": "code",
   "execution_count": 10,
   "metadata": {},
   "outputs": [
    {
     "name": "stdout",
     "output_type": "stream",
     "text": [
      "[2, 3, 5, 4, 8]\n"
     ]
    }
   ],
   "source": [
    "lst1, lst2 = [2,3,5,4,2,3,8,4], []\n",
    "for x in lst1:\n",
    "    if lst2.count(x)==0:\n",
    "        lst2.append(x)\n",
    "print lst2"
   ]
  },
  {
   "cell_type": "markdown",
   "metadata": {},
   "source": [
    "Write a Python program to solve the Fibonacci sequence using recursion. "
   ]
  },
  {
   "cell_type": "code",
   "execution_count": 11,
   "metadata": {},
   "outputs": [
    {
     "name": "stdout",
     "output_type": "stream",
     "text": [
      "[0, 1, 1, 2, 3, 5, 8, 13, 21, 34]\n"
     ]
    }
   ],
   "source": [
    "def fibonacci(length):\n",
    "    if length==2:\n",
    "        return [0,1]\n",
    "    else:\n",
    "        fiblst = fibonacci(length-1)\n",
    "        return fiblst + [sum(fiblst[length-3:])]\n",
    "print fibonacci(10)"
   ]
  },
  {
   "cell_type": "markdown",
   "metadata": {},
   "source": [
    "Write a Python program to print a dictionary with keys are the names of the numbers between one and five (both included) and values are the cubes of the numbers. <br>\n",
    "Note: You should use a list to create the keys and create the dictionary using list comprehension."
   ]
  },
  {
   "cell_type": "code",
   "execution_count": 12,
   "metadata": {},
   "outputs": [
    {
     "name": "stdout",
     "output_type": "stream",
     "text": [
      "{'four': 64, 'three': 27, 'five': 125, 'two': 8, 'one': 1}\n"
     ]
    }
   ],
   "source": [
    "keys1 = [\"one\",\"two\",\"three\",\"four\",\"five\"]\n",
    "dict1 = {keys1[x]:(x+1)**3 for x in range(5)}\n",
    "print dict1"
   ]
  },
  {
   "cell_type": "markdown",
   "metadata": {},
   "source": [
    "Write a python program to check whether a given number is an Armstrong number using a function. <br>\n",
    "Note : An Armstrong number is one whose sum of cubes of digits is equal to the number itself. Eg: 371"
   ]
  },
  {
   "cell_type": "code",
   "execution_count": 13,
   "metadata": {},
   "outputs": [
    {
     "name": "stdout",
     "output_type": "stream",
     "text": [
      "The number 371 is an Armstrong number\n"
     ]
    }
   ],
   "source": [
    "num1 = 371\n",
    "cubesum = 0\n",
    "for x in str(num1):\n",
    "    cubesum += int(math.pow(int(x),3))\n",
    "if num1 == cubesum:\n",
    "    print \"The number {} is an Armstrong number\".format(num1)\n",
    "else:\n",
    "    print \"The number {} is not a Armstrong number\".format(num1)"
   ]
  },
  {
   "cell_type": "markdown",
   "metadata": {},
   "source": [
    "Write a python program to find if a number is Automorphic or not. <br>\n",
    "Note: A number is Automorphic if and only if its square ends with the same digit as itself. Eg: The number 25 has its square 625 ending with the same last digit."
   ]
  },
  {
   "cell_type": "code",
   "execution_count": 14,
   "metadata": {},
   "outputs": [
    {
     "name": "stdout",
     "output_type": "stream",
     "text": [
      "The number 76 is Automorphic\n"
     ]
    }
   ],
   "source": [
    "num1 = 76\n",
    "sqrstr = str(int(math.pow(num1,2)))\n",
    "if sqrstr[-len(str(num1)):]==str(num1):\n",
    "    print \"The number {} is Automorphic\".format(num1)"
   ]
  },
  {
   "cell_type": "markdown",
   "metadata": {},
   "source": [
    "Write a python program to create a matrix $X = \\begin{bmatrix}10 & 2 \\\\44 & 0.5 \\end{bmatrix}$ using lists and use a function to return the sigmoid output of the matrix. <br>\n",
    "Note: The sigmoid function is given by $\\frac{1}{1 + e^{-x}}$\n",
    "Desired output: $\\begin{bmatrix}0.9999 & 0.8807 \\\\1 & 0.6224 \\end{bmatrix}$"
   ]
  },
  {
   "cell_type": "code",
   "execution_count": 15,
   "metadata": {},
   "outputs": [
    {
     "name": "stdout",
     "output_type": "stream",
     "text": [
      "[[0.9999546021312976, 0.8807970779778823], [1.0, 0.6224593312018546]]\n"
     ]
    }
   ],
   "source": [
    "X = [[10,2],[44,0.5]]\n",
    "def sigmoid(inputM):\n",
    "    for x in range(len(inputM)):\n",
    "        for y in range(len(X[x])):\n",
    "            inputM[x][y] = 1 / (1+math.exp(-inputM[x][y]))\n",
    "    return inputM\n",
    "print sigmoid(X)"
   ]
  },
  {
   "cell_type": "markdown",
   "metadata": {},
   "source": [
    "Create a matrix $A = \\begin{bmatrix}1 & 2 & 3 \\\\4 & 5 & 6 \\end{bmatrix}$ and find its transpose using <br>\n",
    "1. List comprehension\n",
    "2. Zip"
   ]
  },
  {
   "cell_type": "code",
   "execution_count": 16,
   "metadata": {},
   "outputs": [
    {
     "name": "stdout",
     "output_type": "stream",
     "text": [
      "[[1, 4], [2, 5], [3, 6]]\n",
      "[(1, 4), (2, 5), (3, 6)]\n"
     ]
    }
   ],
   "source": [
    "A = [[1,2,3],[4,5,6]]\n",
    "T = [[A[y][x] for y in range(len(A)) ] for x in range(len(A[0]))]\n",
    "T2 = zip(A[0],A[1])\n",
    "print T\n",
    "print T2"
   ]
  }
 ],
 "metadata": {
  "kernelspec": {
   "display_name": "Python 2",
   "language": "python",
   "name": "python2"
  },
  "language_info": {
   "codemirror_mode": {
    "name": "ipython",
    "version": 2
   },
   "file_extension": ".py",
   "mimetype": "text/x-python",
   "name": "python",
   "nbconvert_exporter": "python",
   "pygments_lexer": "ipython2",
   "version": "2.7.12"
  }
 },
 "nbformat": 4,
 "nbformat_minor": 2
}

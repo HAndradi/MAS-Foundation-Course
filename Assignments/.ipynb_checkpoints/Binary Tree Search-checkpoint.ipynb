{
 "cells": [
  {
   "cell_type": "code",
   "execution_count": 1,
   "metadata": {},
   "outputs": [
    {
     "name": "stdout",
     "output_type": "stream",
     "text": [
      "Breadth First Search Results:\n",
      "10\n",
      "9\n",
      "11\n",
      "8\n",
      "10\n",
      "10\n",
      "12\n",
      "7\n",
      "9\n",
      "9\n",
      "11\n",
      "9\n",
      "11\n",
      "11\n",
      "13\n",
      "Depth First Search Results:\n",
      "7\n",
      "9\n",
      "8\n",
      "9\n",
      "11\n",
      "10\n",
      "9\n",
      "9\n",
      "11\n",
      "10\n",
      "11\n",
      "13\n",
      "12\n",
      "11\n",
      "10\n"
     ]
    }
   ],
   "source": [
    "import collections\n",
    "\n",
    "class Tree:\n",
    "    def __init__(self, val, n):\n",
    "        self.val, self.n = val, n\n",
    "        if n>1:\n",
    "            self.lft, self.rht = Tree(val-1,n-1), Tree(val+1,n-1)\n",
    "        else:\n",
    "            self.lft, self.rht = None, None\n",
    "\n",
    "def breadthfirst(tree):\n",
    "    queue = collections.deque([tree])\n",
    "    while(queue):\n",
    "        node = queue.popleft()\n",
    "        print node.val\n",
    "        if (node.n>1):\n",
    "            queue.extend([node.lft,node.rht])\n",
    "            \n",
    "def depthfirst(tree):\n",
    "    lst = [[tree,0]]\n",
    "    while lst:\n",
    "        if lst[-1][1]==0:\n",
    "            lst[-1][1] = 1\n",
    "            if lst[-1][0].n>1:\n",
    "                lst.append([lst[-1][0].lft,0])\n",
    "        elif lst[-1][1]==1:\n",
    "            lst[-1][1] = 2\n",
    "            if lst[-1][0].n>1:\n",
    "                lst.append([lst[-1][0].rht,0])  \n",
    "        else:\n",
    "            print lst.pop()[0].val\n",
    "\n",
    "tree = Tree(10,4)\n",
    "\n",
    "print \"Breadth First Search Results:\"\n",
    "breadthfirst(tree)\n",
    "print \"Depth First Search Results:\"\n",
    "depthfirst(tree)"
   ]
  }
 ],
 "metadata": {
  "kernelspec": {
   "display_name": "Python 2",
   "language": "python",
   "name": "python2"
  },
  "language_info": {
   "codemirror_mode": {
    "name": "ipython",
    "version": 2
   },
   "file_extension": ".py",
   "mimetype": "text/x-python",
   "name": "python",
   "nbconvert_exporter": "python",
   "pygments_lexer": "ipython2",
   "version": "2.7.12"
  }
 },
 "nbformat": 4,
 "nbformat_minor": 2
}

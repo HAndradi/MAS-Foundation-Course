{
 "cells": [
  {
   "cell_type": "markdown",
   "metadata": {
    "nbgrader": {
     "grade": false,
     "grade_id": "cell-ddd4aed577578d52",
     "locked": true,
     "schema_version": 1,
     "solution": false
    }
   },
   "source": [
    "# Python exercises\n",
    "\n",
    "## Briefing\n",
    "\n",
    "The goal of this assignment is for you to get used to python and the advantages of using libraries like numPy and matplotlib. Feel free to experiment with the libraries any way you like(you should have already done this by now). One of the main benefits of using numPy is to reduce the usage of loops, so work on that(minimize using loops as much as you can). \n",
    "\n",
    "Once you get the hang of doing that, understanding the language and the reducing the complexity of each problem becomes so much easier !  \n",
    "\n",
    "Most of the questions can be completed using functions/classes. This way, you can use different data as inputs and hence get different results. I suggest that you dont just work toward the assignment for the sake of completion, but to test your inquisitivity and expand your knowledge.\n",
    "\n",
    "I have not imported any of the libraries for you. Some of the libraries that you will be using in this notebook will be math, numpy, matplotlib and csv. Figure out how they are used and the benefits of using these libraries.\n",
    "\n",
    "There are <b>ONLY</b> 30 questions and some of them are super easy to do and some require you think about the question a little. Before you ask me a question for help, research about the your question and then tell me what you found and why you think does not work. I do not think the questions are too complicated to be solved. You just need to spend enough time on them.  \n",
    "\n",
    "Submission for this assignment is on Sunday, 10th September by midnight. To submit, <b>either print the page</b> in pdf format or you can also use the <b>'download as'</b> option in the <b>'file'</b> menu(you may face some errors). If you complete it before that time, let me know and maybe I can give you more work to do :P\n",
    "\n",
    "### Happy programming !"
   ]
  },
  {
   "cell_type": "code",
   "execution_count": 10,
   "metadata": {},
   "outputs": [
    {
     "data": {
      "text/plain": [
       "'2.7.12 (default, Dec  4 2017, 14:50:18) \\n[GCC 5.4.0 20160609]'"
      ]
     },
     "execution_count": 10,
     "metadata": {},
     "output_type": "execute_result"
    }
   ],
   "source": [
    "import sys\n",
    "import math\n",
    "import numpy as np\n",
    "import random\n",
    "import matplotlib.pyplot as plt\n",
    "import csv\n",
    "sys.version"
   ]
  },
  {
   "cell_type": "markdown",
   "metadata": {
    "nbgrader": {
     "grade": false,
     "grade_id": "cell-b659ae89eafaf165",
     "locked": true,
     "schema_version": 1,
     "solution": false
    }
   },
   "source": [
    "## 1\n",
    "\n",
    "Write a program which will find all such numbers which are divisible by 7 but are not a multiple of 5,\n",
    "between 2000 and 3200 (both included).\n",
    "The numbers obtained should be printed in a comma-separated sequence on a single line."
   ]
  },
  {
   "cell_type": "code",
   "execution_count": 20,
   "metadata": {},
   "outputs": [
    {
     "name": "stdout",
     "output_type": "stream",
     "text": [
      "2002,2009,2016,2023,2037,2044,2051,2058,2072,2079,2086,2093,2107,2114,2121,2128,2142,2149,2156,2163,2177,2184,2191,2198,2212,2219,2226,2233,2247,2254,2261,2268,2282,2289,2296,2303,2317,2324,2331,2338,2352,2359,2366,2373,2387,2394,2401,2408,2422,2429,2436,2443,2457,2464,2471,2478,2492,2499,2506,2513,2527,2534,2541,2548,2562,2569,2576,2583,2597,2604,2611,2618,2632,2639,2646,2653,2667,2674,2681,2688,2702,2709,2716,2723,2737,2744,2751,2758,2772,2779,2786,2793,2807,2814,2821,2828,2842,2849,2856,2863,2877,2884,2891,2898,2912,2919,2926,2933,2947,2954,2961,2968,2982,2989,2996,3003,3017,3024,3031,3038,3052,3059,3066,3073,3087,3094,3101,3108,3122,3129,3136,3143,3157,3164,3171,3178,3192,3199\n"
     ]
    }
   ],
   "source": [
    "lst1 = [str(x) for x in range(2000,3201) if x%7==0 and x%5!=0]\n",
    "print \",\".join(lst1)"
   ]
  },
  {
   "cell_type": "markdown",
   "metadata": {
    "nbgrader": {
     "grade": false,
     "grade_id": "cell-44c2df2aa789515d",
     "locked": true,
     "schema_version": 1,
     "solution": false
    }
   },
   "source": [
    "## 2\n",
    "Write a program which can compute the factorial of a given numbers.\n",
    "The results should be printed in a comma-separated sequence on a single line.\n",
    "Suppose the following input is supplied to the program:\n",
    "8\n",
    "Then, the output should be:\n",
    "40320"
   ]
  },
  {
   "cell_type": "code",
   "execution_count": 41,
   "metadata": {},
   "outputs": [
    {
     "name": "stdout",
     "output_type": "stream",
     "text": [
      "input: 8,4,9\n",
      "output: 40320,24,362880\n"
     ]
    }
   ],
   "source": [
    "lst_numbers = [8, 4, 9]\n",
    "def factorial(x):\n",
    "    if x==1:\n",
    "        return x\n",
    "    else:\n",
    "        return x * factorial(x-1)\n",
    "print \"input: {}\".format(\",\".join(map(str,lst_numbers)))\n",
    "print \"output: {}\".format(\",\".join(map(str,map(factorial,lst_numbers))))"
   ]
  },
  {
   "cell_type": "markdown",
   "metadata": {
    "nbgrader": {
     "grade": false,
     "grade_id": "cell-3cf5d36fc09b77fc",
     "locked": true,
     "schema_version": 1,
     "solution": false
    }
   },
   "source": [
    "## 3\n",
    "With a given integral number n, write a program to generate a dictionary that contains (i, i*i) such that is an integral number between 1 and n (both included). and then the program should print the dictionary.\n",
    "Suppose the following input is supplied to the program:\n",
    "8\n",
    "Then, the output should be:\n",
    "{1: 1, 2: 4, 3: 9, 4: 16, 5: 25, 6: 36, 7: 49, 8: 64}\n"
   ]
  },
  {
   "cell_type": "code",
   "execution_count": 44,
   "metadata": {},
   "outputs": [
    {
     "name": "stdout",
     "output_type": "stream",
     "text": [
      "Enter an integer:8\n",
      "output: {1: 1, 2: 4, 3: 9, 4: 16, 5: 25, 6: 36, 7: 49, 8: 64}\n"
     ]
    }
   ],
   "source": [
    "dict_len = input(\"Enter an integer:\")\n",
    "print \"output: {}\".format({x:x*x for x in range(1,dict_len+1)})"
   ]
  },
  {
   "cell_type": "markdown",
   "metadata": {
    "nbgrader": {
     "grade": false,
     "grade_id": "cell-ac22946d2b2ba722",
     "locked": true,
     "schema_version": 1,
     "solution": false
    }
   },
   "source": [
    "## 4\n",
    "Define a class which has at least two methods:\n",
    "getString: to get a string from console input\n",
    "printString: to print the string in upper case.\n",
    "Also please include simple test function to test the class methods.\n"
   ]
  },
  {
   "cell_type": "code",
   "execution_count": 65,
   "metadata": {},
   "outputs": [
    {
     "name": "stdout",
     "output_type": "stream",
     "text": [
      "enter a string :asd\n",
      "output : asd\n"
     ]
    }
   ],
   "source": [
    "class String:\n",
    "    def __init__(self,content=\"empty\"):\n",
    "        self.content = content\n",
    "        return\n",
    "    def getString(self):\n",
    "        self.content = raw_input(\"enter a string :\")\n",
    "        return\n",
    "    def printString(self):\n",
    "        print \"output : {}\".format(self.content)\n",
    "        return\n",
    "obj1 = String()\n",
    "obj1.getString()\n",
    "obj1.printString()"
   ]
  },
  {
   "cell_type": "markdown",
   "metadata": {
    "nbgrader": {
     "grade": false,
     "grade_id": "cell-59366d167ad708b2",
     "locked": true,
     "schema_version": 1,
     "solution": false
    }
   },
   "source": [
    "## 5\n",
    "Write a program that calculates and prints the value according to the given formula:\n",
    "Q = Square root of [(2 * C * D)/H]\n",
    "Following are the fixed values of C and H:\n",
    "C is 50. H is 30.\n",
    "D is the variable whose values should be input to your program in a comma-separated sequence.\n",
    "Example\n",
    "Let us assume the following comma separated input sequence is given to the program:\n",
    "100,150,180\n",
    "The output of the program should be:\n",
    "18,22,24"
   ]
  },
  {
   "cell_type": "code",
   "execution_count": 86,
   "metadata": {},
   "outputs": [
    {
     "name": "stdout",
     "output_type": "stream",
     "text": [
      "Enter values seperated by commas : 100,150,180\n",
      "output : 18,22,24\n"
     ]
    }
   ],
   "source": [
    "C, H = 50, 30\n",
    "D = raw_input(\"Enter values seperated by commas : \")\n",
    "Q = [str(int(round(math.sqrt(2*C*int(d)/H)))) for d in D.split(\",\")]\n",
    "print \"output : {}\".format(\",\".join(Q))\n",
    "\n"
   ]
  },
  {
   "cell_type": "markdown",
   "metadata": {
    "nbgrader": {
     "grade": false,
     "grade_id": "cell-19d67c7623e3467b",
     "locked": true,
     "schema_version": 1,
     "solution": false
    }
   },
   "source": [
    "## 6\n",
    "Write a program which takes 2 digits, X,Y as input and generates a 2-dimensional array. The element value in the i-th row and j-th column of the array should be i*j.\n",
    "\n",
    "Note: i=0,1.., X-1; j=0,1,¡­Y-1. USE NUMPY.\n",
    "Example\n",
    "\n",
    "Suppose the following inputs are given to the program:\n",
    "\n",
    "3,5\n",
    "\n",
    "Then, the output of the program should be:\n",
    "\n",
    "[[0, 0, 0, 0, 0], [0, 1, 2, 3, 4], [0, 2, 4, 6, 8]] \n"
   ]
  },
  {
   "cell_type": "code",
   "execution_count": 105,
   "metadata": {},
   "outputs": [
    {
     "data": {
      "text/plain": [
       "array([[0, 0, 0, 0, 0],\n",
       "       [0, 1, 2, 3, 4],\n",
       "       [0, 2, 4, 6, 8]])"
      ]
     },
     "execution_count": 105,
     "metadata": {},
     "output_type": "execute_result"
    }
   ],
   "source": [
    "def Create_array(X,Y):\n",
    "    arr1 = np.arange(X).reshape(X,1)\n",
    "    arr2 = np.arange(Y).reshape((1,Y))\n",
    "    arr = arr1 *  arr2\n",
    "    return arr\n",
    "Create_array(3,5)"
   ]
  },
  {
   "cell_type": "markdown",
   "metadata": {
    "nbgrader": {
     "grade": false,
     "grade_id": "cell-c7060975cc5b846d",
     "locked": true,
     "schema_version": 1,
     "solution": false
    }
   },
   "source": [
    "## 7\n",
    "Write a program that takes a comma separated sequence of words as input and prints the words in a comma-separated sequence after sorting them alphabetically.\n",
    "\n",
    "Suppose the following input is supplied to the program(<b>you do not have to use raw_input</b>):\n",
    "\n",
    "without,hello,bag,world\n",
    "\n",
    "Then, the output should be:\n",
    "\n",
    "bag,hello,without,world"
   ]
  },
  {
   "cell_type": "code",
   "execution_count": 116,
   "metadata": {},
   "outputs": [
    {
     "name": "stdout",
     "output_type": "stream",
     "text": [
      "bag,hello,without,world\n"
     ]
    }
   ],
   "source": [
    "input_string = \"without,hello,bag,world\"\n",
    "sorted_array = np.sort(np.array(input_string.split(\",\")))\n",
    "print \",\".join(sorted_array)"
   ]
  },
  {
   "cell_type": "markdown",
   "metadata": {
    "nbgrader": {
     "grade": false,
     "grade_id": "cell-b7e1b304b664ff9a",
     "locked": true,
     "schema_version": 1,
     "solution": false
    }
   },
   "source": [
    "## 8\n",
    "\n",
    "Write a program that accepts a sequence of whitespace separated words as input and prints the words after removing all duplicate words and sorting them alphanumerically.\n",
    "\n",
    "Use the following input:\n",
    "\n",
    "hello world and practice makes perfect and hello world again\n",
    "\n",
    "Then, the output should be:\n",
    "\n",
    "again and hello makes perfect practice world\n"
   ]
  },
  {
   "cell_type": "code",
   "execution_count": 119,
   "metadata": {},
   "outputs": [
    {
     "name": "stdout",
     "output_type": "stream",
     "text": [
      "again and hello makes perfect practice world\n"
     ]
    }
   ],
   "source": [
    "input_string = \"hello world and practice makes perfect and hello world again\"\n",
    "sorted_array = np.sort(np.unique(np.array(input_string.split(\" \"))))\n",
    "print \" \".join(sorted_array) "
   ]
  },
  {
   "cell_type": "markdown",
   "metadata": {
    "nbgrader": {
     "grade": false,
     "grade_id": "cell-2ded77f5fc992d2b",
     "locked": true,
     "schema_version": 1,
     "solution": false
    }
   },
   "source": [
    "## 9\n",
    "Write a program which takes a sequence of comma separated 4 digit binary numbers as an input and then check whether they are divisible by 5 or not. The numbers that are divisible by 5 are to be printed in a comma separated sequence.\n",
    "\n",
    "Input:\n",
    "0100,0011,1010,1001\n",
    "\n",
    "Then the output should be:\n",
    "1010\n"
   ]
  },
  {
   "cell_type": "code",
   "execution_count": 131,
   "metadata": {},
   "outputs": [
    {
     "name": "stdout",
     "output_type": "stream",
     "text": [
      "1010,1111\n"
     ]
    }
   ],
   "source": [
    "input_string = \"0100,0011,1010,1001,1111\"\n",
    "arr = np.array([int(b,2) for b in input_string.split(\",\")])\n",
    "print \",\".join(np.array(input_string.split(\",\"))[arr%5==0])"
   ]
  },
  {
   "cell_type": "markdown",
   "metadata": {
    "nbgrader": {
     "grade": false,
     "grade_id": "cell-63b7931ddcbb00a9",
     "locked": true,
     "schema_version": 1,
     "solution": false
    }
   },
   "source": [
    "## 10\n",
    "Write a program, which will find all such numbers between 1000 and 3000 (both included) such that each digit of the number is an even number. Print all the numbers as a list.\n"
   ]
  },
  {
   "cell_type": "code",
   "execution_count": 198,
   "metadata": {},
   "outputs": [
    {
     "name": "stdout",
     "output_type": "stream",
     "text": [
      "[2000 2002 2004 2006 2008 2020 2022 2024 2026 2028 2040 2042 2044 2046\n",
      " 2048 2060 2062 2064 2066 2068 2080 2082 2084 2086 2088 2200 2202 2204\n",
      " 2206 2208 2220 2222 2224 2226 2228 2240 2242 2244 2246 2248 2260 2262\n",
      " 2264 2266 2268 2280 2282 2284 2286 2288 2400 2402 2404 2406 2408 2420\n",
      " 2422 2424 2426 2428 2440 2442 2444 2446 2448 2460 2462 2464 2466 2468\n",
      " 2480 2482 2484 2486 2488 2600 2602 2604 2606 2608 2620 2622 2624 2626\n",
      " 2628 2640 2642 2644 2646 2648 2660 2662 2664 2666 2668 2680 2682 2684\n",
      " 2686 2688 2800 2802 2804 2806 2808 2820 2822 2824 2826 2828 2840 2842\n",
      " 2844 2846 2848 2860 2862 2864 2866 2868 2880 2882 2884 2886 2888]\n"
     ]
    }
   ],
   "source": [
    "arr = np.arange(1000,3000)\n",
    "def even_digits(number):\n",
    "    arr_str = np.array([int(x) for x in str(number)])\n",
    "    return np.array_equal(arr_str[arr_str%2==0],arr_str)\n",
    "print arr[map(even_digits,arr)]"
   ]
  },
  {
   "cell_type": "markdown",
   "metadata": {
    "nbgrader": {
     "grade": false,
     "grade_id": "cell-2f7b19412a4295bb",
     "locked": true,
     "schema_version": 1,
     "solution": false
    }
   },
   "source": [
    "## 11\n",
    "Write a program that uses a sentence and calculates the number of letters and digits.\n",
    "\n",
    "Example input:\n",
    "hello world! 123\n",
    "\n",
    "Then, the output should be:\n",
    "\n",
    "LETTERS 10\n",
    "\n",
    "DIGITS 3\n"
   ]
  },
  {
   "cell_type": "code",
   "execution_count": 230,
   "metadata": {},
   "outputs": [
    {
     "name": "stdout",
     "output_type": "stream",
     "text": [
      "LETTERS: 10   NUMBERS: 3\n"
     ]
    }
   ],
   "source": [
    "inp_str = \"hello world! 123\"\n",
    "letters = np.array(list(inp_str))[[char.isalpha() for char in list(inp_str)]]\n",
    "numbers = np.array(list(inp_str))[[char.isdigit() for char in list(inp_str)]]\n",
    "print \"LETTERS: {}   NUMBERS: {}\".format(len(letters),len(numbers))"
   ]
  },
  {
   "cell_type": "markdown",
   "metadata": {
    "nbgrader": {
     "grade": false,
     "grade_id": "cell-30decddffc4f2107",
     "locked": true,
     "schema_version": 1,
     "solution": false
    }
   },
   "source": [
    "## 12\n",
    "Write a program that is input a sentence and calculates the number of upper case letters and lower case letters.\n",
    "\n",
    "Sample input:\n",
    "Hello world!\n",
    "\n",
    "Then, the output should be:\n",
    "\n",
    "UPPER CASE 1\n",
    "\n",
    "LOWER CASE 9"
   ]
  },
  {
   "cell_type": "code",
   "execution_count": 231,
   "metadata": {},
   "outputs": [
    {
     "name": "stdout",
     "output_type": "stream",
     "text": [
      "UPPER CASE: 1   LOWER CASE: 9\n"
     ]
    }
   ],
   "source": [
    "inp_str = \"Hello world!\"\n",
    "lower = np.array(list(inp_str))[[char.islower() for char in list(inp_str)]]\n",
    "upper = np.array(list(inp_str))[[char.isupper() for char in list(inp_str)]]\n",
    "print \"UPPER CASE: {}   LOWER CASE: {}\".format(len(upper),len(lower))"
   ]
  },
  {
   "cell_type": "markdown",
   "metadata": {
    "nbgrader": {
     "grade": false,
     "grade_id": "cell-3f25c878be4e8e43",
     "locked": true,
     "schema_version": 1,
     "solution": false
    }
   },
   "source": [
    "## 13\n",
    "Write a program which accepts a string from console and print the characters that have even indexes.\n",
    "\n",
    "Sample input: H1e2l3l4o5w6o7r8l9d\n",
    "\n",
    "Then, the output of the program should be:\n",
    "\n",
    "Helloworld\n"
   ]
  },
  {
   "cell_type": "code",
   "execution_count": 258,
   "metadata": {},
   "outputs": [
    {
     "name": "stdout",
     "output_type": "stream",
     "text": [
      "Enter a set of charactersH1e2l3l4o5w6o7r8l9d\n",
      "output: Helloworld\n"
     ]
    }
   ],
   "source": [
    "inp_str = raw_input(\"Enter a set of characters\")\n",
    "print \"output: {}\".format(\"\".join(np.array(list(inp_str))[np.arange(len(inp_str),step=2)]))"
   ]
  },
  {
   "cell_type": "markdown",
   "metadata": {
    "nbgrader": {
     "grade": false,
     "grade_id": "cell-7a17a394c74be0ee",
     "locked": true,
     "schema_version": 1,
     "solution": false
    }
   },
   "source": [
    "## 14\n",
    "Write a program which count and print the numbers of each character in a string.\n",
    "\n",
    "Sample input: abcdefgabc\n",
    "\n",
    "Then, the output of the program should be:\n",
    "\n",
    "a,2\n",
    "\n",
    "c,2\n",
    "\n",
    "b,2\n",
    "\n",
    "e,1\n",
    "\n",
    "d,1\n",
    "\n",
    "g,1\n",
    "\n",
    "f,1"
   ]
  },
  {
   "cell_type": "code",
   "execution_count": 287,
   "metadata": {},
   "outputs": [
    {
     "name": "stdout",
     "output_type": "stream",
     "text": [
      "a,2\n",
      "b,2\n",
      "c,2\n",
      "d,1\n",
      "e,1\n",
      "f,1\n",
      "g,1\n"
     ]
    }
   ],
   "source": [
    "str1 = \"abcdefgabc\"\n",
    "(unq_arr,count) = np.unique(np.array(list(str1)), return_counts=True)\n",
    "for x in np.dstack((unq_arr,count))[0]:\n",
    "    print \",\".join(x)\n",
    "\n"
   ]
  },
  {
   "cell_type": "markdown",
   "metadata": {
    "nbgrader": {
     "grade": false,
     "grade_id": "cell-d739efd54735d910",
     "locked": true,
     "schema_version": 1,
     "solution": false
    }
   },
   "source": [
    "## 15\n",
    "Using the list as input \n",
    "\n",
    "[12,24,35,24,88,120,155,88,120,155]\n",
    "\n",
    "write a program to print this list after removing all duplicate values with original order reserved"
   ]
  },
  {
   "cell_type": "code",
   "execution_count": 300,
   "metadata": {},
   "outputs": [
    {
     "name": "stdout",
     "output_type": "stream",
     "text": [
      "[ 12  24  99  35  88 120 155]\n"
     ]
    }
   ],
   "source": [
    "inp_lst = [12,24,99,35,24,88,120,155,88,120,155]\n",
    "(unq_arr,indices) = np.unique(np.array(inp_lst),return_index=True)\n",
    "print \n",
    "print unq_arr[indices.argsort()]\n"
   ]
  },
  {
   "cell_type": "markdown",
   "metadata": {
    "nbgrader": {
     "grade": false,
     "grade_id": "cell-41b95de7ba372713",
     "locked": true,
     "schema_version": 1,
     "solution": false
    }
   },
   "source": [
    "## 16\n",
    "Using two lists as input, example, [1,3,6,78,35,55] and [12,24,35,24,88,120,155]\n",
    "\n",
    "Write a program to make a list whose elements are intersection of the above given lists.\n"
   ]
  },
  {
   "cell_type": "code",
   "execution_count": 303,
   "metadata": {},
   "outputs": [
    {
     "name": "stdout",
     "output_type": "stream",
     "text": [
      "common elements: [35]\n"
     ]
    }
   ],
   "source": [
    "lst1 = [1,3,6,78,35,55] \n",
    "lst2 = [12,24,35,24,88,120,155]\n",
    "print \"common elements: {}\".format(np.intersect1d(lst1,lst2))"
   ]
  },
  {
   "cell_type": "markdown",
   "metadata": {
    "nbgrader": {
     "grade": false,
     "grade_id": "cell-19092d4d73f643a9",
     "locked": true,
     "schema_version": 1,
     "solution": false
    }
   },
   "source": [
    "## 17\n",
    "By using the built in list functions, write a program to print the list(10 elements) after removing a value from the list. Using the same list, write a program to print the list after removing the 1th,5th,7th numbers(<b>not indices</b>).\n",
    "\n",
    "Example: \n",
    "\n",
    "List :[12,10,9,24,35,24,88,65,120,155]\n",
    "\n",
    "Remove : 24"
   ]
  },
  {
   "cell_type": "code",
   "execution_count": 323,
   "metadata": {},
   "outputs": [
    {
     "name": "stdout",
     "output_type": "stream",
     "text": [
      "Enter a number to remove:24\n",
      "The number 24 has been removed: [ 12  10   9  35  88  65 120 155]\n",
      "The 1st, 5th & 7th numbers have been removed: [ 10   9  35  65 155]\n"
     ]
    }
   ],
   "source": [
    "arr1 = np.array([12,10,9,24,35,24,88,65,120,155])\n",
    "num = input(\"Enter a number to remove:\")\n",
    "arr2 = np.delete(arr,np.where(arr==num))\n",
    "print \"The number {} has been removed: {}\".format(num,arr2)\n",
    "print \"The 1st, 5th & 7th numbers have been removed: {}\".format(np.delete(arr2,[0,4,6]))"
   ]
  },
  {
   "cell_type": "markdown",
   "metadata": {
    "nbgrader": {
     "grade": false,
     "grade_id": "cell-b7efca8ef42db94c",
     "locked": true,
     "schema_version": 1,
     "solution": false
    }
   },
   "source": [
    "## 18\n",
    "\n",
    "Write a program to generate all sentences(that contain the subject, verb and object) where subject is in list [\"I\", \"You\"] and verb is in [\"can code in\", \"love\"] and the object is in [\"Foundation Course\",\"Java, C++, Python\"].\n",
    "\n",
    "Example sentence:\n",
    "\n",
    "I love Foundation Course"
   ]
  },
  {
   "cell_type": "code",
   "execution_count": 332,
   "metadata": {},
   "outputs": [
    {
     "name": "stdout",
     "output_type": "stream",
     "text": [
      "I can code in Foundation Course\n",
      "I can code in Java, C++, Python\n",
      "I love Foundation Course\n",
      "I love Java, C++, Python\n",
      "You can code in Foundation Course\n",
      "You can code in Java, C++, Python\n",
      "You love Foundation Course\n",
      "You love Java, C++, Python\n"
     ]
    }
   ],
   "source": [
    "subjects = [\"I\", \"You\"]\n",
    "verbs = [\"can code in\", \"love\"] \n",
    "objects = [\"Foundation Course\",\"Java, C++, Python\"]\n",
    "for snt in [\" \".join([x,y,z]) for x in subjects for y in verbs for z in objects]:\n",
    "    print snt\n",
    "    \n",
    "    \n"
   ]
  },
  {
   "cell_type": "markdown",
   "metadata": {
    "nbgrader": {
     "grade": false,
     "grade_id": "cell-1b198bf49aac28b0",
     "locked": true,
     "schema_version": 1,
     "solution": false
    }
   },
   "source": [
    "## 19\n",
    "\n",
    "Please write a program to shuffle and print the list [2,3,9,6,7,1,5,10,8].\n",
    "\n",
    "Hint: Check for a library that has the 'shuffle' function or if you can do it by yourself, well and good :D"
   ]
  },
  {
   "cell_type": "code",
   "execution_count": 342,
   "metadata": {},
   "outputs": [
    {
     "name": "stdout",
     "output_type": "stream",
     "text": [
      "[10, 9, 1, 5, 3, 8, 7, 2, 6]\n"
     ]
    }
   ],
   "source": [
    "lst = [2,3,9,6,7,1,5,10,8]\n",
    "random.shuffle(lst)\n",
    "print lst"
   ]
  },
  {
   "cell_type": "markdown",
   "metadata": {
    "nbgrader": {
     "grade": false,
     "grade_id": "cell-86e528962b729d10",
     "locked": true,
     "schema_version": 1,
     "solution": false
    }
   },
   "source": [
    "## 20\n",
    "\n",
    "Write a program to print the running time of execution of \"1+1\" for 100 times.\n",
    "\n",
    "Hint: There are many ways to do this."
   ]
  },
  {
   "cell_type": "code",
   "execution_count": 388,
   "metadata": {},
   "outputs": [
    {
     "name": "stdout",
     "output_type": "stream",
     "text": [
      "CPU times: user 525 µs, sys: 23 µs, total: 548 µs\n",
      "Wall time: 359 µs\n"
     ]
    }
   ],
   "source": [
    "%%time\n",
    "for x in range(100):\n",
    "    add = 1+1"
   ]
  },
  {
   "cell_type": "markdown",
   "metadata": {
    "nbgrader": {
     "grade": false,
     "grade_id": "cell-848c2901441b1996",
     "locked": true,
     "schema_version": 1,
     "solution": false
    }
   },
   "source": [
    "## 21\n",
    "\n",
    "Write a program to randomly print an int between 2 and 20 inclusive of 20.\n",
    "\n",
    "Run your code, and check if 20 is generated atleast once.\n"
   ]
  },
  {
   "cell_type": "code",
   "execution_count": 571,
   "metadata": {},
   "outputs": [
    {
     "name": "stdout",
     "output_type": "stream",
     "text": [
      "The number '20' was generated 6 times out of 100\n"
     ]
    }
   ],
   "source": [
    "count = 0\n",
    "for x in range(100):\n",
    "    rand_num = np.random.randint(2,21)\n",
    "    if rand_num==20:\n",
    "        count += 1\n",
    "print \"The number '20' was generated {} times out of 100\".format(count)"
   ]
  },
  {
   "cell_type": "markdown",
   "metadata": {
    "nbgrader": {
     "grade": false,
     "grade_id": "cell-236f42b6b3cbafa9",
     "locked": true,
     "schema_version": 1,
     "solution": false
    }
   },
   "source": [
    "## 22\n",
    "Write a program to randomly generate a list that contains numbers in a range in such a way that you print n even numbers followed by n odd numbers, in the range.\n",
    "\n",
    "Example:\n",
    "\n",
    "Range: 1-10\n",
    "\n",
    "n:2\n",
    "\n",
    "Output:\n",
    "\n",
    "[2,4,1,3,6,8,5,7,10,9]\n"
   ]
  },
  {
   "cell_type": "code",
   "execution_count": 619,
   "metadata": {},
   "outputs": [
    {
     "name": "stdout",
     "output_type": "stream",
     "text": [
      "Output: [4, 2, 7, 5, 6, 8, 1, 3, 2, 4]\n"
     ]
    }
   ],
   "source": [
    "int_range = \"1-10\"\n",
    "n = 2\n",
    "lst_nums = range(int(int_range.split(\"-\")[0]),int(int_range.split(\"-\")[1])+1)\n",
    "even_nums = [x for x in lst_nums if x%2==0]\n",
    "odd_nums = [x for x in lst_nums if x%2==1]\n",
    "\n",
    "output = [np.random.permutation(even_nums)[0] if math.ceil(x/float(n))%2==1 else np.random.permutation(odd_nums)[0] for x in range(1,n*5+1)]\n",
    "print \"Output: {}\".format(output)"
   ]
  },
  {
   "cell_type": "markdown",
   "metadata": {
    "nbgrader": {
     "grade": false,
     "grade_id": "cell-b0e0f965950a60a9",
     "locked": true,
     "schema_version": 1,
     "solution": false
    }
   },
   "source": [
    "## 23\n",
    "A robot moves in a plane starting from the original point (0,0). The robot can move toward UP, DOWN, LEFT and RIGHT with given number of steps. The trace of robot movement is shown as the following:\n",
    "\n",
    "UP 5\n",
    "\n",
    "DOWN 3\n",
    "\n",
    "LEFT 3\n",
    "\n",
    "RIGHT 2\n",
    "\n",
    "The numbers after the direction are the number of steps moved by the robot. Write a program to compute the distance from current position after a sequence of movement and original point. If the distance is a float, then just print the nearest integer.\n",
    "Example:\n",
    "\n",
    "If the following tuples are given as input to the program:\n",
    "\n",
    "UP 5\n",
    "\n",
    "DOWN 3\n",
    "\n",
    "LEFT 3\n",
    "\n",
    "RIGHT 2\n",
    "\n",
    "Then, the output of the program should be:\n",
    "\n",
    "2\n",
    "\n",
    "<b> DO NOT USE raw_input </b>"
   ]
  },
  {
   "cell_type": "code",
   "execution_count": 693,
   "metadata": {},
   "outputs": [
    {
     "name": "stdout",
     "output_type": "stream",
     "text": [
      "Distance from origin = 2\n"
     ]
    }
   ],
   "source": [
    "UP, DOWN, LEFT, RIGHT = 5, 3, 3, 2\n",
    "print \"Distance from origin = {:.0f}\".format(round(math.sqrt((UP-DOWN)**2+(LEFT-RIGHT)**2)))"
   ]
  },
  {
   "cell_type": "markdown",
   "metadata": {
    "nbgrader": {
     "grade": false,
     "grade_id": "cell-91f49375b4030cf6",
     "locked": true,
     "schema_version": 1,
     "solution": false
    }
   },
   "source": [
    "## 25\n",
    "\n",
    "Write a program to sort the (name, age, height) tuples by ascending order where name is string, age and height are numbers. Make provision for the sort criteria, which is:\n",
    "* Sort based on name\n",
    "\n",
    "* Then sort based on age;\n",
    "\n",
    "* Then sort by score.\n",
    "\n",
    "The priority is that <b>name > age > score</b>\n",
    "\n",
    "If the following tuples are used as input to the program:\n",
    "\n",
    "Tom,19,80\n",
    "\n",
    "John,20,90\n",
    "\n",
    "Jony,17,91\n",
    "\n",
    "Jony,17,93\n",
    "\n",
    "Json,21,85\n",
    "\n",
    "Then, the output of the program should be:\n",
    "\n",
    "[('John', '20', '90'), ('Jony', '17', '91'), ('Jony', '17', '93'), ('Json', '21', '85'), ('Tom', '19', '80')]"
   ]
  },
  {
   "cell_type": "code",
   "execution_count": 622,
   "metadata": {},
   "outputs": [
    {
     "name": "stdout",
     "output_type": "stream",
     "text": [
      "[('John', 20, 90), ('Jony', 17, 91), ('Jony', 17, 93), ('Json', 21, 85), ('Tom', 19, 80)]\n"
     ]
    }
   ],
   "source": [
    "lst = [('Tom',19,80),('John',20,90),('Jony',17,91),('Jony',17,93),('Json',21,85)]\n",
    "lst.sort()\n",
    "print lst"
   ]
  },
  {
   "cell_type": "markdown",
   "metadata": {
    "nbgrader": {
     "grade": false,
     "grade_id": "cell-ce15eae62f210311",
     "locked": true,
     "schema_version": 1,
     "solution": false
    }
   },
   "source": [
    "## 26\n",
    "Write a program that squares each odd number in a list.\n",
    "\n",
    "Suppose the following input is supplied to the program:\n",
    "\n",
    "1,2,3,4,5,6,7,8,9\n",
    "\n",
    "Then, the output should be:\n",
    "\n",
    "1,2,9,4,25,6,49,8,81"
   ]
  },
  {
   "cell_type": "code",
   "execution_count": 638,
   "metadata": {},
   "outputs": [
    {
     "name": "stdout",
     "output_type": "stream",
     "text": [
      "output: 1,2,9,4,25,6,49,8,81\n"
     ]
    }
   ],
   "source": [
    "inp_lst = [1,2,3,4,5,6,7,8,9]\n",
    "np_arr = np.array(inp_lst)\n",
    "np_arr[np.where(np_arr%2==1)] = np_arr[np.where(np_arr%2==1)]**2\n",
    "print \"output: {}\".format(\",\".join(map(str,np_arr)))\n"
   ]
  },
  {
   "cell_type": "markdown",
   "metadata": {
    "nbgrader": {
     "grade": false,
     "grade_id": "cell-1a8e72501e50e454",
     "locked": true,
     "schema_version": 1,
     "solution": false
    }
   },
   "source": [
    "## 27\n",
    "\n",
    "Create two random arrays of equal length and plot the data as an XY graph(label the axes and try different plot styles?)."
   ]
  },
  {
   "cell_type": "code",
   "execution_count": 655,
   "metadata": {},
   "outputs": [
    {
     "data": {
      "image/png": "[encoded data removed]",
      "text/plain": [
       "<Figure size 432x288 with 1 Axes>"
      ]
     },
     "metadata": {
      "needs_background": "light"
     },
     "output_type": "display_data"
    }
   ],
   "source": [
    "arr1 = np.random.randint(0,100,20)\n",
    "arr2 = np.random.randint(0,100,20)\n",
    "plt.plot(arr1,arr2,'ro')\n",
    "plt.xlabel(\"x-axis\")\n",
    "plt.ylabel(\"y-axis\")\n",
    "plt.show()"
   ]
  },
  {
   "cell_type": "markdown",
   "metadata": {
    "nbgrader": {
     "grade": false,
     "grade_id": "cell-15158438fd2d9665",
     "locked": true,
     "schema_version": 1,
     "solution": false
    }
   },
   "source": [
    "## 28\n",
    "\n",
    "Plot a sine function with a dashed line"
   ]
  },
  {
   "cell_type": "code",
   "execution_count": 674,
   "metadata": {},
   "outputs": [
    {
     "data": {
      "image/png": "[encoded data removed]",
      "text/plain": [
       "<Figure size 432x288 with 1 Axes>"
      ]
     },
     "metadata": {
      "needs_background": "light"
     },
     "output_type": "display_data"
    }
   ],
   "source": [
    "radians = np.arange(0,2*math.pi,0.01)\n",
    "sine = np.array(map(math.sin,radians))\n",
    "plt.plot(radians,sine,'b--')\n",
    "plt.xlabel(\"radians\")\n",
    "plt.ylabel(\"sine\")\n",
    "plt.show()"
   ]
  },
  {
   "cell_type": "markdown",
   "metadata": {
    "collapsed": true,
    "nbgrader": {
     "grade": false,
     "grade_id": "cell-d05a3894c6c5208d",
     "locked": true,
     "schema_version": 1,
     "solution": false
    }
   },
   "source": [
    "## 29\n",
    "Plot an exp function"
   ]
  },
  {
   "cell_type": "code",
   "execution_count": 688,
   "metadata": {},
   "outputs": [
    {
     "data": {
      "image/png": "[encoded data removed]",
      "text/plain": [
       "<Figure size 432x288 with 1 Axes>"
      ]
     },
     "metadata": {
      "needs_background": "light"
     },
     "output_type": "display_data"
    }
   ],
   "source": [
    "x_vals = np.arange(-1,8)\n",
    "exp = np.array(map(math.exp,x_vals))\n",
    "plt.plot(x_vals,exp,'b--')\n",
    "plt.xlabel(\"x-axis\")\n",
    "plt.ylabel(\"exponential\")\n",
    "plt.show()"
   ]
  },
  {
   "cell_type": "markdown",
   "metadata": {
    "collapsed": true,
    "nbgrader": {
     "grade": false,
     "grade_id": "cell-15959625ca72daa4",
     "locked": true,
     "schema_version": 1,
     "solution": false
    }
   },
   "source": [
    "## 30\n",
    "Load the csv file using Python and use the data in the csv file to plot a graph with the x axis containing the day of the month and the y axis containing the time worked out.\n",
    "\n",
    "The csv file is of the format:\n",
    "\"2012, Mar-01\", run, 2, 25\n",
    "\n",
    "\"2012, Mar-03\", bike, 10, 55\n",
    "\n",
    "\"2012, Mar-06\", bike, 5, 20\n",
    "\n",
    "Lets take the first row. We start with the date of the workout, the kind of workout, how many miles you travelled and how much time you spent in minutes\n",
    "\n",
    "You need to import the [exercise_data.csv](\\\\:workout.csv)\n",
    "\n",
    "Hints:\n",
    "\n",
    "* Import the file and check its content. Note that the content may be different on different rows, adjust your algorithm accordingly(<b>BETTER HINT ;) -> check for the letter that each row starts with</b>).\n",
    "\n",
    "* Extract the data you want from the csv according to the format that you want. Example: \"2012, Mar-01\" could be of type [datetime](https://docs.python.org/2/library/datetime.html)\n",
    "\n",
    "Your result should look a little like this:\n",
    "![Answer](result.png)"
   ]
  },
  {
   "cell_type": "code",
   "execution_count": 122,
   "metadata": {},
   "outputs": [
    {
     "data": {
      "image/png": "[encoded data removed]",
      "text/plain": [
       "<Figure size 432x288 with 1 Axes>"
      ]
     },
     "metadata": {
      "needs_background": "light"
     },
     "output_type": "display_data"
    },
    {
     "name": "stdout",
     "output_type": "stream",
     "text": [
      "14\n"
     ]
    }
   ],
   "source": [
    "with open(\"exercise_data.csv\") as csv_file:\n",
    "    csv_reader = csv.reader(csv_file, delimiter=',') \n",
    "    cln_data = np.array([row for row in csv_reader if len(row)==4 and row[0][0]==\"2\"])\n",
    "    days =  [int(date[-2:])  for date in cln_data[:,0]]\n",
    "    plt.plot(days,cln_data[:,3].astype(int),'r-')\n",
    "    plt.xlabel(\"Day\")\n",
    "    plt.ylabel(\"Time(min)\")\n",
    "    plt.xlim((min(days),max(days)))\n",
    "    plt.xlim((min(days),max(days)))\n",
    "    plt.show()\n",
    "    cln_data.astype\n",
    "    \n"
   ]
  }
 ],
 "metadata": {
  "celltoolbar": "Create Assignment",
  "kernelspec": {
   "display_name": "Python 2",
   "language": "python",
   "name": "python2"
  },
  "language_info": {
   "codemirror_mode": {
    "name": "ipython",
    "version": 2
   },
   "file_extension": ".py",
   "mimetype": "text/x-python",
   "name": "python",
   "nbconvert_exporter": "python",
   "pygments_lexer": "ipython2",
   "version": "2.7.12"
  }
 },
 "nbformat": 4,
 "nbformat_minor": 2
}
